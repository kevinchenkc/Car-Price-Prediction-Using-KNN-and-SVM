{
 "cells": [
  {
   "cell_type": "markdown",
   "metadata": {},
   "source": [
    "# Car Price Prediction\n",
    "## Using KNN, SVM"
   ]
  },
  {
   "cell_type": "code",
   "execution_count": 1,
   "metadata": {},
   "outputs": [],
   "source": [
    "## Import Common Package\n",
    "import pandas as pd\n",
    "import numpy as np\n",
    "import matplotlib.pyplot as plt\n",
    "import seaborn as sns\n",
    "import warnings\n",
    "warnings.filterwarnings('ignore')"
   ]
  },
  {
   "cell_type": "code",
   "execution_count": 2,
   "metadata": {},
   "outputs": [
    {
     "data": {
      "text/html": [
       "<div>\n",
       "<style scoped>\n",
       "    .dataframe tbody tr th:only-of-type {\n",
       "        vertical-align: middle;\n",
       "    }\n",
       "\n",
       "    .dataframe tbody tr th {\n",
       "        vertical-align: top;\n",
       "    }\n",
       "\n",
       "    .dataframe thead th {\n",
       "        text-align: right;\n",
       "    }\n",
       "</style>\n",
       "<table border=\"1\" class=\"dataframe\">\n",
       "  <thead>\n",
       "    <tr style=\"text-align: right;\">\n",
       "      <th></th>\n",
       "      <th>ID</th>\n",
       "      <th>Name</th>\n",
       "      <th>Location</th>\n",
       "      <th>Year</th>\n",
       "      <th>Kilometers_Driven</th>\n",
       "      <th>Fuel_Type</th>\n",
       "      <th>Transmission</th>\n",
       "      <th>Owner_Type</th>\n",
       "      <th>Mileage_kmpl</th>\n",
       "      <th>Engine_CC</th>\n",
       "      <th>Power_bhp</th>\n",
       "      <th>Seats</th>\n",
       "      <th>Price</th>\n",
       "    </tr>\n",
       "  </thead>\n",
       "  <tbody>\n",
       "    <tr>\n",
       "      <th>0</th>\n",
       "      <td>1</td>\n",
       "      <td>Hyundai Creta 1.6 CRDi SX Option</td>\n",
       "      <td>Pune</td>\n",
       "      <td>2015</td>\n",
       "      <td>41000</td>\n",
       "      <td>Diesel</td>\n",
       "      <td>Manual</td>\n",
       "      <td>First</td>\n",
       "      <td>19.67</td>\n",
       "      <td>1582.0</td>\n",
       "      <td>126.20</td>\n",
       "      <td>5.0</td>\n",
       "      <td>12.50</td>\n",
       "    </tr>\n",
       "    <tr>\n",
       "      <th>1</th>\n",
       "      <td>2</td>\n",
       "      <td>Honda Jazz V</td>\n",
       "      <td>Chennai</td>\n",
       "      <td>2011</td>\n",
       "      <td>46000</td>\n",
       "      <td>Petrol</td>\n",
       "      <td>Manual</td>\n",
       "      <td>First</td>\n",
       "      <td>18.20</td>\n",
       "      <td>1199.0</td>\n",
       "      <td>88.70</td>\n",
       "      <td>5.0</td>\n",
       "      <td>4.50</td>\n",
       "    </tr>\n",
       "    <tr>\n",
       "      <th>2</th>\n",
       "      <td>3</td>\n",
       "      <td>Maruti Ertiga VDI</td>\n",
       "      <td>Chennai</td>\n",
       "      <td>2012</td>\n",
       "      <td>87000</td>\n",
       "      <td>Diesel</td>\n",
       "      <td>Manual</td>\n",
       "      <td>First</td>\n",
       "      <td>20.77</td>\n",
       "      <td>1248.0</td>\n",
       "      <td>88.76</td>\n",
       "      <td>7.0</td>\n",
       "      <td>6.00</td>\n",
       "    </tr>\n",
       "    <tr>\n",
       "      <th>3</th>\n",
       "      <td>4</td>\n",
       "      <td>Audi A4 New 2.0 TDI Multitronic</td>\n",
       "      <td>Coimbatore</td>\n",
       "      <td>2013</td>\n",
       "      <td>40670</td>\n",
       "      <td>Diesel</td>\n",
       "      <td>Automatic</td>\n",
       "      <td>Second</td>\n",
       "      <td>15.20</td>\n",
       "      <td>1968.0</td>\n",
       "      <td>140.80</td>\n",
       "      <td>5.0</td>\n",
       "      <td>17.74</td>\n",
       "    </tr>\n",
       "    <tr>\n",
       "      <th>4</th>\n",
       "      <td>6</td>\n",
       "      <td>Nissan Micra Diesel XV</td>\n",
       "      <td>Jaipur</td>\n",
       "      <td>2013</td>\n",
       "      <td>86999</td>\n",
       "      <td>Diesel</td>\n",
       "      <td>Manual</td>\n",
       "      <td>First</td>\n",
       "      <td>23.08</td>\n",
       "      <td>1461.0</td>\n",
       "      <td>63.10</td>\n",
       "      <td>5.0</td>\n",
       "      <td>3.50</td>\n",
       "    </tr>\n",
       "  </tbody>\n",
       "</table>\n",
       "</div>"
      ],
      "text/plain": [
       "   ID                              Name    Location  Year  Kilometers_Driven  \\\n",
       "0   1  Hyundai Creta 1.6 CRDi SX Option        Pune  2015              41000   \n",
       "1   2                      Honda Jazz V     Chennai  2011              46000   \n",
       "2   3                 Maruti Ertiga VDI     Chennai  2012              87000   \n",
       "3   4   Audi A4 New 2.0 TDI Multitronic  Coimbatore  2013              40670   \n",
       "4   6            Nissan Micra Diesel XV      Jaipur  2013              86999   \n",
       "\n",
       "  Fuel_Type Transmission Owner_Type  Mileage_kmpl  Engine_CC  Power_bhp  \\\n",
       "0    Diesel       Manual      First         19.67     1582.0     126.20   \n",
       "1    Petrol       Manual      First         18.20     1199.0      88.70   \n",
       "2    Diesel       Manual      First         20.77     1248.0      88.76   \n",
       "3    Diesel    Automatic     Second         15.20     1968.0     140.80   \n",
       "4    Diesel       Manual      First         23.08     1461.0      63.10   \n",
       "\n",
       "   Seats  Price  \n",
       "0    5.0  12.50  \n",
       "1    5.0   4.50  \n",
       "2    7.0   6.00  \n",
       "3    5.0  17.74  \n",
       "4    5.0   3.50  "
      ]
     },
     "execution_count": 2,
     "metadata": {},
     "output_type": "execute_result"
    }
   ],
   "source": [
    "## Import Dataset\n",
    "df=pd.read_csv('carprice.csv')\n",
    "## Show Data\n",
    "df.head()"
   ]
  },
  {
   "cell_type": "code",
   "execution_count": 3,
   "metadata": {},
   "outputs": [
    {
     "data": {
      "text/plain": [
       "ID                     0\n",
       "Name                   0\n",
       "Location               0\n",
       "Year                   0\n",
       "Kilometers_Driven      0\n",
       "Fuel_Type              0\n",
       "Transmission           0\n",
       "Owner_Type             0\n",
       "Mileage_kmpl           2\n",
       "Engine_CC             36\n",
       "Power_bhp            142\n",
       "Seats                 42\n",
       "Price                  0\n",
       "dtype: int64"
      ]
     },
     "execution_count": 3,
     "metadata": {},
     "output_type": "execute_result"
    }
   ],
   "source": [
    "## Show Missing Value\n",
    "df.isna().sum()\n",
    "## There are 4 columns with missing value"
   ]
  },
  {
   "cell_type": "code",
   "execution_count": 4,
   "metadata": {},
   "outputs": [
    {
     "data": {
      "image/png": "[encoded data removed]",
      "text/plain": [
       "<Figure size 1080x504 with 2 Axes>"
      ]
     },
     "metadata": {
      "needs_background": "light"
     },
     "output_type": "display_data"
    }
   ],
   "source": [
    "## Visualize Missing Value Using Heatmap\n",
    "plt.figure(figsize=(15,7))\n",
    "sns.heatmap(df.isna(), cmap='viridis')\n",
    "plt.xticks(rotation=30)\n",
    "plt.show()\n",
    "## Result: missing value detected in columns mileage - seats"
   ]
  },
  {
   "cell_type": "code",
   "execution_count": 5,
   "metadata": {},
   "outputs": [],
   "source": [
    "## Build For Loop to contain data for checking column details\n",
    "car_priceDesc=[]\n",
    "\n",
    "for i in df.columns:\n",
    "    car_priceDesc.append([\n",
    "        i,\n",
    "        df[i].dtypes,\n",
    "        df[i].isna().sum(),\n",
    "        round((df[i].isna().sum() / len(df))*100, 2),\n",
    "        df[i].nunique(),\n",
    "        df[i].drop_duplicates().sample(2).values\n",
    "        ])"
   ]
  },
  {
   "cell_type": "code",
   "execution_count": 6,
   "metadata": {},
   "outputs": [
    {
     "data": {
      "text/html": [
       "<div>\n",
       "<style scoped>\n",
       "    .dataframe tbody tr th:only-of-type {\n",
       "        vertical-align: middle;\n",
       "    }\n",
       "\n",
       "    .dataframe tbody tr th {\n",
       "        vertical-align: top;\n",
       "    }\n",
       "\n",
       "    .dataframe thead th {\n",
       "        text-align: right;\n",
       "    }\n",
       "</style>\n",
       "<table border=\"1\" class=\"dataframe\">\n",
       "  <thead>\n",
       "    <tr style=\"text-align: right;\">\n",
       "      <th></th>\n",
       "      <th>Features</th>\n",
       "      <th>DataType</th>\n",
       "      <th>Null</th>\n",
       "      <th>Null%</th>\n",
       "      <th>Unique</th>\n",
       "      <th>Sample</th>\n",
       "    </tr>\n",
       "  </thead>\n",
       "  <tbody>\n",
       "    <tr>\n",
       "      <th>0</th>\n",
       "      <td>ID</td>\n",
       "      <td>int64</td>\n",
       "      <td>0</td>\n",
       "      <td>0.00</td>\n",
       "      <td>5953</td>\n",
       "      <td>[2629, 277]</td>\n",
       "    </tr>\n",
       "    <tr>\n",
       "      <th>1</th>\n",
       "      <td>Name</td>\n",
       "      <td>object</td>\n",
       "      <td>0</td>\n",
       "      <td>0.00</td>\n",
       "      <td>1849</td>\n",
       "      <td>[Fiat Grande Punto 1.4 Emotion, Hyundai Creta ...</td>\n",
       "    </tr>\n",
       "    <tr>\n",
       "      <th>2</th>\n",
       "      <td>Location</td>\n",
       "      <td>object</td>\n",
       "      <td>0</td>\n",
       "      <td>0.00</td>\n",
       "      <td>11</td>\n",
       "      <td>[Mumbai, Hyderabad]</td>\n",
       "    </tr>\n",
       "    <tr>\n",
       "      <th>3</th>\n",
       "      <td>Year</td>\n",
       "      <td>int64</td>\n",
       "      <td>0</td>\n",
       "      <td>0.00</td>\n",
       "      <td>22</td>\n",
       "      <td>[2014, 2001]</td>\n",
       "    </tr>\n",
       "    <tr>\n",
       "      <th>4</th>\n",
       "      <td>Kilometers_Driven</td>\n",
       "      <td>int64</td>\n",
       "      <td>0</td>\n",
       "      <td>0.00</td>\n",
       "      <td>3062</td>\n",
       "      <td>[52400, 41641]</td>\n",
       "    </tr>\n",
       "    <tr>\n",
       "      <th>5</th>\n",
       "      <td>Fuel_Type</td>\n",
       "      <td>object</td>\n",
       "      <td>0</td>\n",
       "      <td>0.00</td>\n",
       "      <td>3</td>\n",
       "      <td>[Diesel, Petrol]</td>\n",
       "    </tr>\n",
       "    <tr>\n",
       "      <th>6</th>\n",
       "      <td>Transmission</td>\n",
       "      <td>object</td>\n",
       "      <td>0</td>\n",
       "      <td>0.00</td>\n",
       "      <td>2</td>\n",
       "      <td>[Automatic, Manual]</td>\n",
       "    </tr>\n",
       "    <tr>\n",
       "      <th>7</th>\n",
       "      <td>Owner_Type</td>\n",
       "      <td>object</td>\n",
       "      <td>0</td>\n",
       "      <td>0.00</td>\n",
       "      <td>4</td>\n",
       "      <td>[First, Second]</td>\n",
       "    </tr>\n",
       "    <tr>\n",
       "      <th>8</th>\n",
       "      <td>Mileage_kmpl</td>\n",
       "      <td>float64</td>\n",
       "      <td>2</td>\n",
       "      <td>0.03</td>\n",
       "      <td>418</td>\n",
       "      <td>[17.01, 16.47]</td>\n",
       "    </tr>\n",
       "    <tr>\n",
       "      <th>9</th>\n",
       "      <td>Engine_CC</td>\n",
       "      <td>float64</td>\n",
       "      <td>36</td>\n",
       "      <td>0.60</td>\n",
       "      <td>146</td>\n",
       "      <td>[4806.0, 2993.0]</td>\n",
       "    </tr>\n",
       "    <tr>\n",
       "      <th>10</th>\n",
       "      <td>Power_bhp</td>\n",
       "      <td>float64</td>\n",
       "      <td>142</td>\n",
       "      <td>2.39</td>\n",
       "      <td>359</td>\n",
       "      <td>[61.0, 382.0]</td>\n",
       "    </tr>\n",
       "    <tr>\n",
       "      <th>11</th>\n",
       "      <td>Seats</td>\n",
       "      <td>float64</td>\n",
       "      <td>42</td>\n",
       "      <td>0.71</td>\n",
       "      <td>9</td>\n",
       "      <td>[0.0, 6.0]</td>\n",
       "    </tr>\n",
       "    <tr>\n",
       "      <th>12</th>\n",
       "      <td>Price</td>\n",
       "      <td>float64</td>\n",
       "      <td>0</td>\n",
       "      <td>0.00</td>\n",
       "      <td>1371</td>\n",
       "      <td>[8.92, 12.15]</td>\n",
       "    </tr>\n",
       "  </tbody>\n",
       "</table>\n",
       "</div>"
      ],
      "text/plain": [
       "             Features DataType  Null  Null%  Unique  \\\n",
       "0                  ID    int64     0   0.00    5953   \n",
       "1                Name   object     0   0.00    1849   \n",
       "2            Location   object     0   0.00      11   \n",
       "3                Year    int64     0   0.00      22   \n",
       "4   Kilometers_Driven    int64     0   0.00    3062   \n",
       "5           Fuel_Type   object     0   0.00       3   \n",
       "6        Transmission   object     0   0.00       2   \n",
       "7          Owner_Type   object     0   0.00       4   \n",
       "8        Mileage_kmpl  float64     2   0.03     418   \n",
       "9           Engine_CC  float64    36   0.60     146   \n",
       "10          Power_bhp  float64   142   2.39     359   \n",
       "11              Seats  float64    42   0.71       9   \n",
       "12              Price  float64     0   0.00    1371   \n",
       "\n",
       "                                               Sample  \n",
       "0                                         [2629, 277]  \n",
       "1   [Fiat Grande Punto 1.4 Emotion, Hyundai Creta ...  \n",
       "2                                 [Mumbai, Hyderabad]  \n",
       "3                                        [2014, 2001]  \n",
       "4                                      [52400, 41641]  \n",
       "5                                    [Diesel, Petrol]  \n",
       "6                                 [Automatic, Manual]  \n",
       "7                                     [First, Second]  \n",
       "8                                      [17.01, 16.47]  \n",
       "9                                    [4806.0, 2993.0]  \n",
       "10                                      [61.0, 382.0]  \n",
       "11                                         [0.0, 6.0]  \n",
       "12                                      [8.92, 12.15]  "
      ]
     },
     "execution_count": 6,
     "metadata": {},
     "output_type": "execute_result"
    }
   ],
   "source": [
    "## Input data into DataFrame and show details of every column\n",
    "pd.DataFrame(data=car_priceDesc,\n",
    "            columns=[\n",
    "                'Features',\n",
    "                'DataType',\n",
    "                'Null',\n",
    "                'Null%',\n",
    "                'Unique',\n",
    "                'Sample'\n",
    "            ])"
   ]
  },
  {
   "cell_type": "markdown",
   "metadata": {},
   "source": [
    "### Handling Missing Value"
   ]
  },
  {
   "cell_type": "code",
   "execution_count": 7,
   "metadata": {},
   "outputs": [],
   "source": [
    "## There should be no car without seats, therefore we fill in with mode\n",
    "df['Seats'] = df['Seats'].fillna(df['Seats'].mode())\n",
    "\n",
    "## For the rest, fill in with mean since there should be no car without mileage, engine size and horse power info\n",
    "df=df.fillna(df.mean())"
   ]
  },
  {
   "cell_type": "code",
   "execution_count": 8,
   "metadata": {},
   "outputs": [
    {
     "data": {
      "image/png": "[encoded data removed]",
      "text/plain": [
       "<Figure size 1080x504 with 1 Axes>"
      ]
     },
     "metadata": {
      "needs_background": "light"
     },
     "output_type": "display_data"
    }
   ],
   "source": [
    "## Confirm Missing Value Handling Using Heatmap\n",
    "plt.figure(figsize=(15,7))\n",
    "sns.heatmap(df.isna(), cmap='viridis', cbar=False)\n",
    "plt.xticks(rotation=30)\n",
    "plt.show()\n",
    "## Result: no missing value left"
   ]
  },
  {
   "cell_type": "code",
   "execution_count": 9,
   "metadata": {},
   "outputs": [],
   "source": [
    "df_1=df.drop(columns=['ID','Name'])"
   ]
  },
  {
   "cell_type": "markdown",
   "metadata": {},
   "source": [
    "### Re-Categorize and Encode Features"
   ]
  },
  {
   "cell_type": "code",
   "execution_count": 10,
   "metadata": {},
   "outputs": [
    {
     "data": {
      "text/html": [
       "<div>\n",
       "<style scoped>\n",
       "    .dataframe tbody tr th:only-of-type {\n",
       "        vertical-align: middle;\n",
       "    }\n",
       "\n",
       "    .dataframe tbody tr th {\n",
       "        vertical-align: top;\n",
       "    }\n",
       "\n",
       "    .dataframe thead th {\n",
       "        text-align: right;\n",
       "    }\n",
       "</style>\n",
       "<table border=\"1\" class=\"dataframe\">\n",
       "  <thead>\n",
       "    <tr style=\"text-align: right;\">\n",
       "      <th>col_0</th>\n",
       "      <th>Avg Price</th>\n",
       "    </tr>\n",
       "    <tr>\n",
       "      <th>Location</th>\n",
       "      <th></th>\n",
       "    </tr>\n",
       "  </thead>\n",
       "  <tbody>\n",
       "    <tr>\n",
       "      <th>Coimbatore</th>\n",
       "      <td>15.08</td>\n",
       "    </tr>\n",
       "    <tr>\n",
       "      <th>Bangalore</th>\n",
       "      <td>13.33</td>\n",
       "    </tr>\n",
       "    <tr>\n",
       "      <th>Kochi</th>\n",
       "      <td>11.26</td>\n",
       "    </tr>\n",
       "    <tr>\n",
       "      <th>Hyderabad</th>\n",
       "      <td>9.86</td>\n",
       "    </tr>\n",
       "    <tr>\n",
       "      <th>Delhi</th>\n",
       "      <td>9.83</td>\n",
       "    </tr>\n",
       "    <tr>\n",
       "      <th>Mumbai</th>\n",
       "      <td>9.56</td>\n",
       "    </tr>\n",
       "    <tr>\n",
       "      <th>Ahmedabad</th>\n",
       "      <td>8.53</td>\n",
       "    </tr>\n",
       "    <tr>\n",
       "      <th>Chennai</th>\n",
       "      <td>7.77</td>\n",
       "    </tr>\n",
       "    <tr>\n",
       "      <th>Pune</th>\n",
       "      <td>6.82</td>\n",
       "    </tr>\n",
       "    <tr>\n",
       "      <th>Jaipur</th>\n",
       "      <td>5.83</td>\n",
       "    </tr>\n",
       "    <tr>\n",
       "      <th>Kolkata</th>\n",
       "      <td>5.66</td>\n",
       "    </tr>\n",
       "  </tbody>\n",
       "</table>\n",
       "</div>"
      ],
      "text/plain": [
       "col_0       Avg Price\n",
       "Location             \n",
       "Coimbatore      15.08\n",
       "Bangalore       13.33\n",
       "Kochi           11.26\n",
       "Hyderabad        9.86\n",
       "Delhi            9.83\n",
       "Mumbai           9.56\n",
       "Ahmedabad        8.53\n",
       "Chennai          7.77\n",
       "Pune             6.82\n",
       "Jaipur           5.83\n",
       "Kolkata          5.66"
      ]
     },
     "execution_count": 10,
     "metadata": {},
     "output_type": "execute_result"
    }
   ],
   "source": [
    "## 1. Check average car price in every city\n",
    "pd.crosstab(df['Location'], columns='Avg Price', values=df['Price'], aggfunc='mean').round(2).sort_values('Avg Price', ascending=False)"
   ]
  },
  {
   "cell_type": "code",
   "execution_count": 11,
   "metadata": {},
   "outputs": [],
   "source": [
    "# Re-Categorize Location\n",
    "## Build Function\n",
    "def rec_loc(x):\n",
    "    if (x == 'Coimbatore') or (x == 'Bangalore'):\n",
    "        return x\n",
    "    else:\n",
    "        return 'Others'\n",
    "\n",
    "## Add into Dataset as New Column\n",
    "df_1['Location'] = df_1['Location'].apply(rec_loc)"
   ]
  },
  {
   "cell_type": "code",
   "execution_count": 12,
   "metadata": {},
   "outputs": [],
   "source": [
    "## 2. Encode Transmission (Binary Encoding)\n",
    "df_1['Transmission']=df_1['Transmission'].map({'Manual':0,\n",
    "                                                'Automatic':1})"
   ]
  },
  {
   "cell_type": "code",
   "execution_count": 13,
   "metadata": {},
   "outputs": [],
   "source": [
    "## 3. Encode Owner Type (Ordinal) Using Re-Categorize\n",
    "df_1['Owner_Type'] = df_1['Owner_Type'].map({'First':0,\n",
    "                                                'Second':1,\n",
    "                                                'Third':2,\n",
    "                                                'Fourth & Above':3\n",
    "                                                })"
   ]
  },
  {
   "cell_type": "code",
   "execution_count": 14,
   "metadata": {},
   "outputs": [],
   "source": [
    "## 4. Encode Fuel Type and Location Using One-Hot Encoding\n",
    "df_1 = pd.get_dummies(df_1, columns=['Location','Fuel_Type'])"
   ]
  },
  {
   "cell_type": "code",
   "execution_count": 15,
   "metadata": {},
   "outputs": [
    {
     "data": {
      "text/html": [
       "<div>\n",
       "<style scoped>\n",
       "    .dataframe tbody tr th:only-of-type {\n",
       "        vertical-align: middle;\n",
       "    }\n",
       "\n",
       "    .dataframe tbody tr th {\n",
       "        vertical-align: top;\n",
       "    }\n",
       "\n",
       "    .dataframe thead th {\n",
       "        text-align: right;\n",
       "    }\n",
       "</style>\n",
       "<table border=\"1\" class=\"dataframe\">\n",
       "  <thead>\n",
       "    <tr style=\"text-align: right;\">\n",
       "      <th></th>\n",
       "      <th>Year</th>\n",
       "      <th>Kilometers_Driven</th>\n",
       "      <th>Transmission</th>\n",
       "      <th>Owner_Type</th>\n",
       "      <th>Mileage_kmpl</th>\n",
       "      <th>Engine_CC</th>\n",
       "      <th>Power_bhp</th>\n",
       "      <th>Seats</th>\n",
       "      <th>Price</th>\n",
       "      <th>Location_Bangalore</th>\n",
       "      <th>Location_Coimbatore</th>\n",
       "      <th>Location_Others</th>\n",
       "      <th>Fuel_Type_Diesel</th>\n",
       "      <th>Fuel_Type_Electric</th>\n",
       "      <th>Fuel_Type_Petrol</th>\n",
       "    </tr>\n",
       "  </thead>\n",
       "  <tbody>\n",
       "    <tr>\n",
       "      <th>0</th>\n",
       "      <td>2015</td>\n",
       "      <td>41000</td>\n",
       "      <td>0</td>\n",
       "      <td>0</td>\n",
       "      <td>19.67</td>\n",
       "      <td>1582.0</td>\n",
       "      <td>126.20</td>\n",
       "      <td>5.0</td>\n",
       "      <td>12.50</td>\n",
       "      <td>0</td>\n",
       "      <td>0</td>\n",
       "      <td>1</td>\n",
       "      <td>1</td>\n",
       "      <td>0</td>\n",
       "      <td>0</td>\n",
       "    </tr>\n",
       "    <tr>\n",
       "      <th>1</th>\n",
       "      <td>2011</td>\n",
       "      <td>46000</td>\n",
       "      <td>0</td>\n",
       "      <td>0</td>\n",
       "      <td>18.20</td>\n",
       "      <td>1199.0</td>\n",
       "      <td>88.70</td>\n",
       "      <td>5.0</td>\n",
       "      <td>4.50</td>\n",
       "      <td>0</td>\n",
       "      <td>0</td>\n",
       "      <td>1</td>\n",
       "      <td>0</td>\n",
       "      <td>0</td>\n",
       "      <td>1</td>\n",
       "    </tr>\n",
       "    <tr>\n",
       "      <th>2</th>\n",
       "      <td>2012</td>\n",
       "      <td>87000</td>\n",
       "      <td>0</td>\n",
       "      <td>0</td>\n",
       "      <td>20.77</td>\n",
       "      <td>1248.0</td>\n",
       "      <td>88.76</td>\n",
       "      <td>7.0</td>\n",
       "      <td>6.00</td>\n",
       "      <td>0</td>\n",
       "      <td>0</td>\n",
       "      <td>1</td>\n",
       "      <td>1</td>\n",
       "      <td>0</td>\n",
       "      <td>0</td>\n",
       "    </tr>\n",
       "    <tr>\n",
       "      <th>3</th>\n",
       "      <td>2013</td>\n",
       "      <td>40670</td>\n",
       "      <td>1</td>\n",
       "      <td>1</td>\n",
       "      <td>15.20</td>\n",
       "      <td>1968.0</td>\n",
       "      <td>140.80</td>\n",
       "      <td>5.0</td>\n",
       "      <td>17.74</td>\n",
       "      <td>0</td>\n",
       "      <td>1</td>\n",
       "      <td>0</td>\n",
       "      <td>1</td>\n",
       "      <td>0</td>\n",
       "      <td>0</td>\n",
       "    </tr>\n",
       "    <tr>\n",
       "      <th>4</th>\n",
       "      <td>2013</td>\n",
       "      <td>86999</td>\n",
       "      <td>0</td>\n",
       "      <td>0</td>\n",
       "      <td>23.08</td>\n",
       "      <td>1461.0</td>\n",
       "      <td>63.10</td>\n",
       "      <td>5.0</td>\n",
       "      <td>3.50</td>\n",
       "      <td>0</td>\n",
       "      <td>0</td>\n",
       "      <td>1</td>\n",
       "      <td>1</td>\n",
       "      <td>0</td>\n",
       "      <td>0</td>\n",
       "    </tr>\n",
       "  </tbody>\n",
       "</table>\n",
       "</div>"
      ],
      "text/plain": [
       "   Year  Kilometers_Driven  Transmission  Owner_Type  Mileage_kmpl  Engine_CC  \\\n",
       "0  2015              41000             0           0         19.67     1582.0   \n",
       "1  2011              46000             0           0         18.20     1199.0   \n",
       "2  2012              87000             0           0         20.77     1248.0   \n",
       "3  2013              40670             1           1         15.20     1968.0   \n",
       "4  2013              86999             0           0         23.08     1461.0   \n",
       "\n",
       "   Power_bhp  Seats  Price  Location_Bangalore  Location_Coimbatore  \\\n",
       "0     126.20    5.0  12.50                   0                    0   \n",
       "1      88.70    5.0   4.50                   0                    0   \n",
       "2      88.76    7.0   6.00                   0                    0   \n",
       "3     140.80    5.0  17.74                   0                    1   \n",
       "4      63.10    5.0   3.50                   0                    0   \n",
       "\n",
       "   Location_Others  Fuel_Type_Diesel  Fuel_Type_Electric  Fuel_Type_Petrol  \n",
       "0                1                 1                   0                 0  \n",
       "1                1                 0                   0                 1  \n",
       "2                1                 1                   0                 0  \n",
       "3                0                 1                   0                 0  \n",
       "4                1                 1                   0                 0  "
      ]
     },
     "execution_count": 15,
     "metadata": {},
     "output_type": "execute_result"
    }
   ],
   "source": [
    "## Show Data\n",
    "df_1.head()"
   ]
  },
  {
   "cell_type": "markdown",
   "metadata": {},
   "source": [
    "<hr>\n",
    "\n",
    "## 2. Machine Learning Modelling"
   ]
  },
  {
   "cell_type": "markdown",
   "metadata": {},
   "source": [
    "### Splitting Data"
   ]
  },
  {
   "cell_type": "code",
   "execution_count": 16,
   "metadata": {},
   "outputs": [],
   "source": [
    "## Import Package\n",
    "from sklearn.model_selection import train_test_split"
   ]
  },
  {
   "cell_type": "code",
   "execution_count": 17,
   "metadata": {},
   "outputs": [],
   "source": [
    "## Define features and target\n",
    "x = df_1.drop(columns='Price')\n",
    "y = df_1['Price']"
   ]
  },
  {
   "cell_type": "code",
   "execution_count": 18,
   "metadata": {},
   "outputs": [],
   "source": [
    "## Split Data\n",
    "x_train, x_test, y_train, y_test = train_test_split(x, y, train_size=.80, random_state=42)"
   ]
  },
  {
   "cell_type": "code",
   "execution_count": 19,
   "metadata": {},
   "outputs": [
    {
     "name": "stdout",
     "output_type": "stream",
     "text": [
      "(4762, 14) (1191, 14)\n"
     ]
    }
   ],
   "source": [
    "## Define Features Shape\n",
    "print(x_train.shape, x_test.shape)"
   ]
  },
  {
   "cell_type": "code",
   "execution_count": 20,
   "metadata": {},
   "outputs": [
    {
     "data": {
      "text/html": [
       "<div>\n",
       "<style scoped>\n",
       "    .dataframe tbody tr th:only-of-type {\n",
       "        vertical-align: middle;\n",
       "    }\n",
       "\n",
       "    .dataframe tbody tr th {\n",
       "        vertical-align: top;\n",
       "    }\n",
       "\n",
       "    .dataframe thead th {\n",
       "        text-align: right;\n",
       "    }\n",
       "</style>\n",
       "<table border=\"1\" class=\"dataframe\">\n",
       "  <thead>\n",
       "    <tr style=\"text-align: right;\">\n",
       "      <th></th>\n",
       "      <th>Year</th>\n",
       "      <th>Kilometers_Driven</th>\n",
       "      <th>Transmission</th>\n",
       "      <th>Owner_Type</th>\n",
       "      <th>Mileage_kmpl</th>\n",
       "      <th>Engine_CC</th>\n",
       "      <th>Power_bhp</th>\n",
       "      <th>Seats</th>\n",
       "      <th>Location_Bangalore</th>\n",
       "      <th>Location_Coimbatore</th>\n",
       "      <th>Location_Others</th>\n",
       "      <th>Fuel_Type_Diesel</th>\n",
       "      <th>Fuel_Type_Electric</th>\n",
       "      <th>Fuel_Type_Petrol</th>\n",
       "    </tr>\n",
       "  </thead>\n",
       "  <tbody>\n",
       "    <tr>\n",
       "      <th>4329</th>\n",
       "      <td>2016</td>\n",
       "      <td>60913</td>\n",
       "      <td>0</td>\n",
       "      <td>0</td>\n",
       "      <td>20.73</td>\n",
       "      <td>1373.0</td>\n",
       "      <td>91.100000</td>\n",
       "      <td>5.0</td>\n",
       "      <td>0</td>\n",
       "      <td>1</td>\n",
       "      <td>0</td>\n",
       "      <td>0</td>\n",
       "      <td>0</td>\n",
       "      <td>1</td>\n",
       "    </tr>\n",
       "    <tr>\n",
       "      <th>2644</th>\n",
       "      <td>2017</td>\n",
       "      <td>40459</td>\n",
       "      <td>0</td>\n",
       "      <td>0</td>\n",
       "      <td>19.67</td>\n",
       "      <td>1582.0</td>\n",
       "      <td>126.200000</td>\n",
       "      <td>5.0</td>\n",
       "      <td>0</td>\n",
       "      <td>0</td>\n",
       "      <td>1</td>\n",
       "      <td>1</td>\n",
       "      <td>0</td>\n",
       "      <td>0</td>\n",
       "    </tr>\n",
       "    <tr>\n",
       "      <th>642</th>\n",
       "      <td>2004</td>\n",
       "      <td>200000</td>\n",
       "      <td>0</td>\n",
       "      <td>0</td>\n",
       "      <td>0.00</td>\n",
       "      <td>1086.0</td>\n",
       "      <td>113.803144</td>\n",
       "      <td>5.0</td>\n",
       "      <td>0</td>\n",
       "      <td>0</td>\n",
       "      <td>1</td>\n",
       "      <td>0</td>\n",
       "      <td>0</td>\n",
       "      <td>1</td>\n",
       "    </tr>\n",
       "    <tr>\n",
       "      <th>5901</th>\n",
       "      <td>2018</td>\n",
       "      <td>1048</td>\n",
       "      <td>0</td>\n",
       "      <td>0</td>\n",
       "      <td>18.90</td>\n",
       "      <td>998.0</td>\n",
       "      <td>67.100000</td>\n",
       "      <td>5.0</td>\n",
       "      <td>0</td>\n",
       "      <td>0</td>\n",
       "      <td>1</td>\n",
       "      <td>0</td>\n",
       "      <td>0</td>\n",
       "      <td>1</td>\n",
       "    </tr>\n",
       "    <tr>\n",
       "      <th>2177</th>\n",
       "      <td>2013</td>\n",
       "      <td>96000</td>\n",
       "      <td>0</td>\n",
       "      <td>1</td>\n",
       "      <td>23.50</td>\n",
       "      <td>1498.0</td>\n",
       "      <td>90.000000</td>\n",
       "      <td>5.0</td>\n",
       "      <td>0</td>\n",
       "      <td>0</td>\n",
       "      <td>1</td>\n",
       "      <td>1</td>\n",
       "      <td>0</td>\n",
       "      <td>0</td>\n",
       "    </tr>\n",
       "  </tbody>\n",
       "</table>\n",
       "</div>"
      ],
      "text/plain": [
       "      Year  Kilometers_Driven  Transmission  Owner_Type  Mileage_kmpl  \\\n",
       "4329  2016              60913             0           0         20.73   \n",
       "2644  2017              40459             0           0         19.67   \n",
       "642   2004             200000             0           0          0.00   \n",
       "5901  2018               1048             0           0         18.90   \n",
       "2177  2013              96000             0           1         23.50   \n",
       "\n",
       "      Engine_CC   Power_bhp  Seats  Location_Bangalore  Location_Coimbatore  \\\n",
       "4329     1373.0   91.100000    5.0                   0                    1   \n",
       "2644     1582.0  126.200000    5.0                   0                    0   \n",
       "642      1086.0  113.803144    5.0                   0                    0   \n",
       "5901      998.0   67.100000    5.0                   0                    0   \n",
       "2177     1498.0   90.000000    5.0                   0                    0   \n",
       "\n",
       "      Location_Others  Fuel_Type_Diesel  Fuel_Type_Electric  Fuel_Type_Petrol  \n",
       "4329                0                 0                   0                 1  \n",
       "2644                1                 1                   0                 0  \n",
       "642                 1                 0                   0                 1  \n",
       "5901                1                 0                   0                 1  \n",
       "2177                1                 1                   0                 0  "
      ]
     },
     "execution_count": 20,
     "metadata": {},
     "output_type": "execute_result"
    }
   ],
   "source": [
    "## Show Training Features\n",
    "x_train.head()"
   ]
  },
  {
   "cell_type": "markdown",
   "metadata": {},
   "source": [
    "### Base Model Benchmarking using CrossValidation"
   ]
  },
  {
   "cell_type": "code",
   "execution_count": 21,
   "metadata": {},
   "outputs": [],
   "source": [
    "## Import package\n",
    "from sklearn.model_selection import KFold, cross_val_score\n",
    "from sklearn.neighbors import KNeighborsRegressor\n",
    "from sklearn.svm import SVR\n",
    "from sklearn.metrics import r2_score, mean_absolute_error, mean_squared_error"
   ]
  },
  {
   "cell_type": "code",
   "execution_count": 22,
   "metadata": {},
   "outputs": [],
   "source": [
    "## Create function to print mean of Cross-Validation score\n",
    "def Cross_Val(model,x,y,Nama):\n",
    "    kf = KFold(n_splits=5)\n",
    "    cv_r2 = cross_val_score(model, x, y, cv = kf, scoring='r2')\n",
    "    cv_MAE = cross_val_score(model, x, y, cv = kf, scoring='neg_mean_absolute_error')\n",
    "    cv_MSE = cross_val_score(model, x, y, cv = kf, scoring='neg_mean_squared_error')\n",
    "    cv_RMSE = cross_val_score(model, x, y, cv = kf, scoring='neg_root_mean_squared_error')\n",
    "    data={\n",
    "        Nama + ' Cross-Validation (Mean)':[cv_r2.mean(),cv_MAE.mean(),cv_MSE.mean(),cv_RMSE.mean()],\n",
    "        Nama + ' Cross-Validation (Standard Deviation)':[cv_r2.std(),cv_MAE.std(),cv_MSE.std(),cv_RMSE.std()]\n",
    "    }\n",
    "    ## Create DataFrame\n",
    "    df = pd.DataFrame(data,index=['R-Squared','MAE','MSE','RMSE']).T\n",
    "\n",
    "    return df"
   ]
  },
  {
   "cell_type": "markdown",
   "metadata": {},
   "source": [
    "### Training"
   ]
  },
  {
   "cell_type": "code",
   "execution_count": 23,
   "metadata": {},
   "outputs": [
    {
     "data": {
      "text/html": [
       "<div>\n",
       "<style scoped>\n",
       "    .dataframe tbody tr th:only-of-type {\n",
       "        vertical-align: middle;\n",
       "    }\n",
       "\n",
       "    .dataframe tbody tr th {\n",
       "        vertical-align: top;\n",
       "    }\n",
       "\n",
       "    .dataframe thead th {\n",
       "        text-align: right;\n",
       "    }\n",
       "</style>\n",
       "<table border=\"1\" class=\"dataframe\">\n",
       "  <thead>\n",
       "    <tr style=\"text-align: right;\">\n",
       "      <th></th>\n",
       "      <th>R-Squared</th>\n",
       "      <th>MAE</th>\n",
       "      <th>MSE</th>\n",
       "      <th>RMSE</th>\n",
       "    </tr>\n",
       "  </thead>\n",
       "  <tbody>\n",
       "    <tr>\n",
       "      <th>KNN Model Training Cross-Validation (Mean)</th>\n",
       "      <td>0.55</td>\n",
       "      <td>-4.15</td>\n",
       "      <td>-55.75</td>\n",
       "      <td>-7.43</td>\n",
       "    </tr>\n",
       "    <tr>\n",
       "      <th>KNN Model Training Cross-Validation (Standard Deviation)</th>\n",
       "      <td>0.03</td>\n",
       "      <td>0.24</td>\n",
       "      <td>10.61</td>\n",
       "      <td>0.72</td>\n",
       "    </tr>\n",
       "  </tbody>\n",
       "</table>\n",
       "</div>"
      ],
      "text/plain": [
       "                                                    R-Squared   MAE    MSE  \\\n",
       "KNN Model Training Cross-Validation (Mean)               0.55 -4.15 -55.75   \n",
       "KNN Model Training Cross-Validation (Standard D...       0.03  0.24  10.61   \n",
       "\n",
       "                                                    RMSE  \n",
       "KNN Model Training Cross-Validation (Mean)         -7.43  \n",
       "KNN Model Training Cross-Validation (Standard D...  0.72  "
      ]
     },
     "execution_count": 23,
     "metadata": {},
     "output_type": "execute_result"
    }
   ],
   "source": [
    "## Show Cross-Validation score for KNN Model (training)\n",
    "cv_KNN_tr=Cross_Val(KNeighborsRegressor(),x_train,y_train,'KNN Model Training').round(2)\n",
    "cv_KNN_tr"
   ]
  },
  {
   "cell_type": "code",
   "execution_count": 24,
   "metadata": {},
   "outputs": [
    {
     "data": {
      "text/html": [
       "<div>\n",
       "<style scoped>\n",
       "    .dataframe tbody tr th:only-of-type {\n",
       "        vertical-align: middle;\n",
       "    }\n",
       "\n",
       "    .dataframe tbody tr th {\n",
       "        vertical-align: top;\n",
       "    }\n",
       "\n",
       "    .dataframe thead th {\n",
       "        text-align: right;\n",
       "    }\n",
       "</style>\n",
       "<table border=\"1\" class=\"dataframe\">\n",
       "  <thead>\n",
       "    <tr style=\"text-align: right;\">\n",
       "      <th></th>\n",
       "      <th>R-Squared</th>\n",
       "      <th>MAE</th>\n",
       "      <th>MSE</th>\n",
       "      <th>RMSE</th>\n",
       "    </tr>\n",
       "  </thead>\n",
       "  <tbody>\n",
       "    <tr>\n",
       "      <th>SVR Model Training Cross-Validation (Mean)</th>\n",
       "      <td>-0.08</td>\n",
       "      <td>-5.93</td>\n",
       "      <td>-132.45</td>\n",
       "      <td>-11.48</td>\n",
       "    </tr>\n",
       "    <tr>\n",
       "      <th>SVR Model Training Cross-Validation (Standard Deviation)</th>\n",
       "      <td>0.02</td>\n",
       "      <td>0.36</td>\n",
       "      <td>19.13</td>\n",
       "      <td>0.85</td>\n",
       "    </tr>\n",
       "  </tbody>\n",
       "</table>\n",
       "</div>"
      ],
      "text/plain": [
       "                                                    R-Squared   MAE     MSE  \\\n",
       "SVR Model Training Cross-Validation (Mean)              -0.08 -5.93 -132.45   \n",
       "SVR Model Training Cross-Validation (Standard D...       0.02  0.36   19.13   \n",
       "\n",
       "                                                     RMSE  \n",
       "SVR Model Training Cross-Validation (Mean)         -11.48  \n",
       "SVR Model Training Cross-Validation (Standard D...   0.85  "
      ]
     },
     "execution_count": 24,
     "metadata": {},
     "output_type": "execute_result"
    }
   ],
   "source": [
    "## Show Cross-Validation score for SVR Model (training)\n",
    "cv_SVR_tr=Cross_Val(SVR(),x_train,y_train,'SVR Model Training').round(2)\n",
    "cv_SVR_tr"
   ]
  },
  {
   "cell_type": "markdown",
   "metadata": {},
   "source": [
    "### Testing"
   ]
  },
  {
   "cell_type": "code",
   "execution_count": 25,
   "metadata": {},
   "outputs": [
    {
     "data": {
      "text/html": [
       "<div>\n",
       "<style scoped>\n",
       "    .dataframe tbody tr th:only-of-type {\n",
       "        vertical-align: middle;\n",
       "    }\n",
       "\n",
       "    .dataframe tbody tr th {\n",
       "        vertical-align: top;\n",
       "    }\n",
       "\n",
       "    .dataframe thead th {\n",
       "        text-align: right;\n",
       "    }\n",
       "</style>\n",
       "<table border=\"1\" class=\"dataframe\">\n",
       "  <thead>\n",
       "    <tr style=\"text-align: right;\">\n",
       "      <th></th>\n",
       "      <th>R-Squared</th>\n",
       "      <th>MAE</th>\n",
       "      <th>MSE</th>\n",
       "      <th>RMSE</th>\n",
       "    </tr>\n",
       "  </thead>\n",
       "  <tbody>\n",
       "    <tr>\n",
       "      <th>KNN Model Testing Cross-Validation (Mean)</th>\n",
       "      <td>0.55</td>\n",
       "      <td>-4.15</td>\n",
       "      <td>-55.75</td>\n",
       "      <td>-7.43</td>\n",
       "    </tr>\n",
       "    <tr>\n",
       "      <th>KNN Model Testing Cross-Validation (Standard Deviation)</th>\n",
       "      <td>0.03</td>\n",
       "      <td>0.24</td>\n",
       "      <td>10.61</td>\n",
       "      <td>0.72</td>\n",
       "    </tr>\n",
       "  </tbody>\n",
       "</table>\n",
       "</div>"
      ],
      "text/plain": [
       "                                                    R-Squared   MAE    MSE  \\\n",
       "KNN Model Testing Cross-Validation (Mean)                0.55 -4.15 -55.75   \n",
       "KNN Model Testing Cross-Validation (Standard De...       0.03  0.24  10.61   \n",
       "\n",
       "                                                    RMSE  \n",
       "KNN Model Testing Cross-Validation (Mean)          -7.43  \n",
       "KNN Model Testing Cross-Validation (Standard De...  0.72  "
      ]
     },
     "execution_count": 25,
     "metadata": {},
     "output_type": "execute_result"
    }
   ],
   "source": [
    "## Show Cross-Validation score for KNN Model (testing)\n",
    "cv_KNN_ts=Cross_Val(KNeighborsRegressor(),x_train,y_train,'KNN Model Testing').round(2)\n",
    "cv_KNN_ts"
   ]
  },
  {
   "cell_type": "code",
   "execution_count": 26,
   "metadata": {},
   "outputs": [
    {
     "data": {
      "text/html": [
       "<div>\n",
       "<style scoped>\n",
       "    .dataframe tbody tr th:only-of-type {\n",
       "        vertical-align: middle;\n",
       "    }\n",
       "\n",
       "    .dataframe tbody tr th {\n",
       "        vertical-align: top;\n",
       "    }\n",
       "\n",
       "    .dataframe thead th {\n",
       "        text-align: right;\n",
       "    }\n",
       "</style>\n",
       "<table border=\"1\" class=\"dataframe\">\n",
       "  <thead>\n",
       "    <tr style=\"text-align: right;\">\n",
       "      <th></th>\n",
       "      <th>R-Squared</th>\n",
       "      <th>MAE</th>\n",
       "      <th>MSE</th>\n",
       "      <th>RMSE</th>\n",
       "    </tr>\n",
       "  </thead>\n",
       "  <tbody>\n",
       "    <tr>\n",
       "      <th>SVR Model Testing Cross-Validation (Mean)</th>\n",
       "      <td>-0.08</td>\n",
       "      <td>-5.93</td>\n",
       "      <td>-132.45</td>\n",
       "      <td>-11.48</td>\n",
       "    </tr>\n",
       "    <tr>\n",
       "      <th>SVR Model Testing Cross-Validation (Standard Deviation)</th>\n",
       "      <td>0.02</td>\n",
       "      <td>0.36</td>\n",
       "      <td>19.13</td>\n",
       "      <td>0.85</td>\n",
       "    </tr>\n",
       "  </tbody>\n",
       "</table>\n",
       "</div>"
      ],
      "text/plain": [
       "                                                    R-Squared   MAE     MSE  \\\n",
       "SVR Model Testing Cross-Validation (Mean)               -0.08 -5.93 -132.45   \n",
       "SVR Model Testing Cross-Validation (Standard De...       0.02  0.36   19.13   \n",
       "\n",
       "                                                     RMSE  \n",
       "SVR Model Testing Cross-Validation (Mean)          -11.48  \n",
       "SVR Model Testing Cross-Validation (Standard De...   0.85  "
      ]
     },
     "execution_count": 26,
     "metadata": {},
     "output_type": "execute_result"
    }
   ],
   "source": [
    "## Show Cross-Validation score for SVR Model (testing)\n",
    "cv_SVR_ts=Cross_Val(SVR(),x_train,y_train,'SVR Model Testing').round(2)\n",
    "cv_SVR_ts"
   ]
  },
  {
   "cell_type": "code",
   "execution_count": 27,
   "metadata": {},
   "outputs": [
    {
     "data": {
      "text/html": [
       "<div>\n",
       "<style scoped>\n",
       "    .dataframe tbody tr th:only-of-type {\n",
       "        vertical-align: middle;\n",
       "    }\n",
       "\n",
       "    .dataframe tbody tr th {\n",
       "        vertical-align: top;\n",
       "    }\n",
       "\n",
       "    .dataframe thead th {\n",
       "        text-align: right;\n",
       "    }\n",
       "</style>\n",
       "<table border=\"1\" class=\"dataframe\">\n",
       "  <thead>\n",
       "    <tr style=\"text-align: right;\">\n",
       "      <th></th>\n",
       "      <th>R-Squared</th>\n",
       "      <th>MAE</th>\n",
       "      <th>MSE</th>\n",
       "      <th>RMSE</th>\n",
       "    </tr>\n",
       "  </thead>\n",
       "  <tbody>\n",
       "    <tr>\n",
       "      <th>KNN Model Training Cross-Validation (Mean)</th>\n",
       "      <td>0.55</td>\n",
       "      <td>-4.15</td>\n",
       "      <td>-55.75</td>\n",
       "      <td>-7.43</td>\n",
       "    </tr>\n",
       "    <tr>\n",
       "      <th>KNN Model Training Cross-Validation (Standard Deviation)</th>\n",
       "      <td>0.03</td>\n",
       "      <td>0.24</td>\n",
       "      <td>10.61</td>\n",
       "      <td>0.72</td>\n",
       "    </tr>\n",
       "    <tr>\n",
       "      <th>KNN Model Testing Cross-Validation (Mean)</th>\n",
       "      <td>0.55</td>\n",
       "      <td>-4.15</td>\n",
       "      <td>-55.75</td>\n",
       "      <td>-7.43</td>\n",
       "    </tr>\n",
       "    <tr>\n",
       "      <th>KNN Model Testing Cross-Validation (Standard Deviation)</th>\n",
       "      <td>0.03</td>\n",
       "      <td>0.24</td>\n",
       "      <td>10.61</td>\n",
       "      <td>0.72</td>\n",
       "    </tr>\n",
       "    <tr>\n",
       "      <th>SVR Model Training Cross-Validation (Mean)</th>\n",
       "      <td>-0.08</td>\n",
       "      <td>-5.93</td>\n",
       "      <td>-132.45</td>\n",
       "      <td>-11.48</td>\n",
       "    </tr>\n",
       "    <tr>\n",
       "      <th>SVR Model Training Cross-Validation (Standard Deviation)</th>\n",
       "      <td>0.02</td>\n",
       "      <td>0.36</td>\n",
       "      <td>19.13</td>\n",
       "      <td>0.85</td>\n",
       "    </tr>\n",
       "    <tr>\n",
       "      <th>SVR Model Testing Cross-Validation (Mean)</th>\n",
       "      <td>-0.08</td>\n",
       "      <td>-5.93</td>\n",
       "      <td>-132.45</td>\n",
       "      <td>-11.48</td>\n",
       "    </tr>\n",
       "    <tr>\n",
       "      <th>SVR Model Testing Cross-Validation (Standard Deviation)</th>\n",
       "      <td>0.02</td>\n",
       "      <td>0.36</td>\n",
       "      <td>19.13</td>\n",
       "      <td>0.85</td>\n",
       "    </tr>\n",
       "  </tbody>\n",
       "</table>\n",
       "</div>"
      ],
      "text/plain": [
       "                                                    R-Squared   MAE     MSE  \\\n",
       "KNN Model Training Cross-Validation (Mean)               0.55 -4.15  -55.75   \n",
       "KNN Model Training Cross-Validation (Standard D...       0.03  0.24   10.61   \n",
       "KNN Model Testing Cross-Validation (Mean)                0.55 -4.15  -55.75   \n",
       "KNN Model Testing Cross-Validation (Standard De...       0.03  0.24   10.61   \n",
       "SVR Model Training Cross-Validation (Mean)              -0.08 -5.93 -132.45   \n",
       "SVR Model Training Cross-Validation (Standard D...       0.02  0.36   19.13   \n",
       "SVR Model Testing Cross-Validation (Mean)               -0.08 -5.93 -132.45   \n",
       "SVR Model Testing Cross-Validation (Standard De...       0.02  0.36   19.13   \n",
       "\n",
       "                                                     RMSE  \n",
       "KNN Model Training Cross-Validation (Mean)          -7.43  \n",
       "KNN Model Training Cross-Validation (Standard D...   0.72  \n",
       "KNN Model Testing Cross-Validation (Mean)           -7.43  \n",
       "KNN Model Testing Cross-Validation (Standard De...   0.72  \n",
       "SVR Model Training Cross-Validation (Mean)         -11.48  \n",
       "SVR Model Training Cross-Validation (Standard D...   0.85  \n",
       "SVR Model Testing Cross-Validation (Mean)          -11.48  \n",
       "SVR Model Testing Cross-Validation (Standard De...   0.85  "
      ]
     },
     "execution_count": 27,
     "metadata": {},
     "output_type": "execute_result"
    }
   ],
   "source": [
    "## Combine\n",
    "pd.concat((cv_KNN_tr,cv_KNN_ts, cv_SVR_tr, cv_SVR_ts))"
   ]
  },
  {
   "cell_type": "markdown",
   "metadata": {},
   "source": [
    "### Evaluation Matrix"
   ]
  },
  {
   "cell_type": "code",
   "execution_count": 28,
   "metadata": {},
   "outputs": [],
   "source": [
    "## Build function to automatically perform Evaluation Matrix scoring\n",
    "def Eva_Matrix(model,x_train, x_test, y_train, y_test, Nama):\n",
    "    Model = model.fit(x_train, y_train)\n",
    "    y_pred_tr = Model.predict(x_train)\n",
    "    R2_train = r2_score(y_train, y_pred_tr)\n",
    "    MAE_train = mean_absolute_error(y_train, y_pred_tr)\n",
    "    MSE_train = mean_squared_error(y_train, y_pred_tr)\n",
    "    RMSE_train = np.sqrt(MSE_train)\n",
    "    y_pred_ts = Model.predict(x_test)\n",
    "    R2_test = r2_score(y_test, y_pred_ts)\n",
    "    MAE_test = mean_absolute_error(y_test, y_pred_ts)\n",
    "    MSE_test = mean_squared_error(y_test, y_pred_ts)\n",
    "    RMSE_test = np.sqrt(MSE_test)\n",
    "    eva_data = {\n",
    "    \"Training \" + Nama : [R2_train, MAE_train, MSE_train, RMSE_train],\n",
    "    \"Testing \" + Nama : [R2_test, MAE_test, MSE_test, RMSE_test],\n",
    "    }\n",
    "    df = pd.DataFrame(eva_data, index=['R2', 'MAE', 'MSE', 'RMSE']).T\n",
    "    \n",
    "    return df"
   ]
  },
  {
   "cell_type": "code",
   "execution_count": 29,
   "metadata": {},
   "outputs": [
    {
     "data": {
      "text/html": [
       "<div>\n",
       "<style scoped>\n",
       "    .dataframe tbody tr th:only-of-type {\n",
       "        vertical-align: middle;\n",
       "    }\n",
       "\n",
       "    .dataframe tbody tr th {\n",
       "        vertical-align: top;\n",
       "    }\n",
       "\n",
       "    .dataframe thead th {\n",
       "        text-align: right;\n",
       "    }\n",
       "</style>\n",
       "<table border=\"1\" class=\"dataframe\">\n",
       "  <thead>\n",
       "    <tr style=\"text-align: right;\">\n",
       "      <th></th>\n",
       "      <th>R2</th>\n",
       "      <th>MAE</th>\n",
       "      <th>MSE</th>\n",
       "      <th>RMSE</th>\n",
       "    </tr>\n",
       "  </thead>\n",
       "  <tbody>\n",
       "    <tr>\n",
       "      <th>Training KNN</th>\n",
       "      <td>0.73</td>\n",
       "      <td>3.23</td>\n",
       "      <td>33.16</td>\n",
       "      <td>5.76</td>\n",
       "    </tr>\n",
       "    <tr>\n",
       "      <th>Testing KNN</th>\n",
       "      <td>0.53</td>\n",
       "      <td>4.07</td>\n",
       "      <td>65.96</td>\n",
       "      <td>8.12</td>\n",
       "    </tr>\n",
       "  </tbody>\n",
       "</table>\n",
       "</div>"
      ],
      "text/plain": [
       "                R2   MAE    MSE  RMSE\n",
       "Training KNN  0.73  3.23  33.16  5.76\n",
       "Testing KNN   0.53  4.07  65.96  8.12"
      ]
     },
     "execution_count": 29,
     "metadata": {},
     "output_type": "execute_result"
    }
   ],
   "source": [
    "## Run Function for KNN\n",
    "df_KNN = Eva_Matrix(KNeighborsRegressor(),\n",
    "                    x_train, x_test, y_train, y_test,\n",
    "                    'KNN')\n",
    "df_KNN.round(2)\n",
    "## Overfit"
   ]
  },
  {
   "cell_type": "code",
   "execution_count": 30,
   "metadata": {},
   "outputs": [
    {
     "data": {
      "text/html": [
       "<div>\n",
       "<style scoped>\n",
       "    .dataframe tbody tr th:only-of-type {\n",
       "        vertical-align: middle;\n",
       "    }\n",
       "\n",
       "    .dataframe tbody tr th {\n",
       "        vertical-align: top;\n",
       "    }\n",
       "\n",
       "    .dataframe thead th {\n",
       "        text-align: right;\n",
       "    }\n",
       "</style>\n",
       "<table border=\"1\" class=\"dataframe\">\n",
       "  <thead>\n",
       "    <tr style=\"text-align: right;\">\n",
       "      <th></th>\n",
       "      <th>R2</th>\n",
       "      <th>MAE</th>\n",
       "      <th>MSE</th>\n",
       "      <th>RMSE</th>\n",
       "    </tr>\n",
       "  </thead>\n",
       "  <tbody>\n",
       "    <tr>\n",
       "      <th>Training SVR</th>\n",
       "      <td>-0.08</td>\n",
       "      <td>5.92</td>\n",
       "      <td>132.24</td>\n",
       "      <td>11.50</td>\n",
       "    </tr>\n",
       "    <tr>\n",
       "      <th>Testing SVR</th>\n",
       "      <td>-0.07</td>\n",
       "      <td>5.98</td>\n",
       "      <td>149.40</td>\n",
       "      <td>12.22</td>\n",
       "    </tr>\n",
       "  </tbody>\n",
       "</table>\n",
       "</div>"
      ],
      "text/plain": [
       "                R2   MAE     MSE   RMSE\n",
       "Training SVR -0.08  5.92  132.24  11.50\n",
       "Testing SVR  -0.07  5.98  149.40  12.22"
      ]
     },
     "execution_count": 30,
     "metadata": {},
     "output_type": "execute_result"
    }
   ],
   "source": [
    "## Run Function for KNN\n",
    "df_SVR = Eva_Matrix(SVR(),\n",
    "                    x_train, x_test, y_train, y_test,\n",
    "                    'SVR')\n",
    "df_SVR.round(2)\n",
    "## Underfit"
   ]
  },
  {
   "cell_type": "markdown",
   "metadata": {},
   "source": [
    "<hr>\n",
    "\n",
    "## 3. Improvement with Scaling"
   ]
  },
  {
   "cell_type": "code",
   "execution_count": 31,
   "metadata": {},
   "outputs": [],
   "source": [
    "## Import Package\n",
    "from sklearn.preprocessing import StandardScaler, RobustScaler"
   ]
  },
  {
   "cell_type": "code",
   "execution_count": 32,
   "metadata": {},
   "outputs": [],
   "source": [
    "## Build and Fit model\n",
    "sc = StandardScaler()\n",
    "sc = sc.fit(x_train)"
   ]
  },
  {
   "cell_type": "code",
   "execution_count": 33,
   "metadata": {},
   "outputs": [],
   "source": [
    "## Transform Model\n",
    "x_train_sc = sc.transform(x_train)\n",
    "x_test_sc = sc.transform(x_test)"
   ]
  },
  {
   "cell_type": "markdown",
   "metadata": {},
   "source": [
    "### Evaluation Matrix"
   ]
  },
  {
   "cell_type": "code",
   "execution_count": 34,
   "metadata": {},
   "outputs": [
    {
     "data": {
      "text/html": [
       "<div>\n",
       "<style scoped>\n",
       "    .dataframe tbody tr th:only-of-type {\n",
       "        vertical-align: middle;\n",
       "    }\n",
       "\n",
       "    .dataframe tbody tr th {\n",
       "        vertical-align: top;\n",
       "    }\n",
       "\n",
       "    .dataframe thead th {\n",
       "        text-align: right;\n",
       "    }\n",
       "</style>\n",
       "<table border=\"1\" class=\"dataframe\">\n",
       "  <thead>\n",
       "    <tr style=\"text-align: right;\">\n",
       "      <th></th>\n",
       "      <th>R2</th>\n",
       "      <th>MAE</th>\n",
       "      <th>MSE</th>\n",
       "      <th>RMSE</th>\n",
       "    </tr>\n",
       "  </thead>\n",
       "  <tbody>\n",
       "    <tr>\n",
       "      <th>Training KNN with StandardScaler</th>\n",
       "      <td>0.90</td>\n",
       "      <td>1.61</td>\n",
       "      <td>12.47</td>\n",
       "      <td>3.53</td>\n",
       "    </tr>\n",
       "    <tr>\n",
       "      <th>Testing KNN with StandardScaler</th>\n",
       "      <td>0.81</td>\n",
       "      <td>2.11</td>\n",
       "      <td>26.14</td>\n",
       "      <td>5.11</td>\n",
       "    </tr>\n",
       "  </tbody>\n",
       "</table>\n",
       "</div>"
      ],
      "text/plain": [
       "                                    R2   MAE    MSE  RMSE\n",
       "Training KNN with StandardScaler  0.90  1.61  12.47  3.53\n",
       "Testing KNN with StandardScaler   0.81  2.11  26.14  5.11"
      ]
     },
     "execution_count": 34,
     "metadata": {},
     "output_type": "execute_result"
    }
   ],
   "source": [
    "## Run Function for Evaluation Matrix\n",
    "df_KNN_sc = Eva_Matrix(KNeighborsRegressor(), x_train_sc, x_test_sc, y_train, y_test, 'KNN with StandardScaler')\n",
    "df_KNN_sc.round(2)\n",
    "## Good R-Squared score"
   ]
  },
  {
   "cell_type": "code",
   "execution_count": 35,
   "metadata": {},
   "outputs": [
    {
     "data": {
      "text/html": [
       "<div>\n",
       "<style scoped>\n",
       "    .dataframe tbody tr th:only-of-type {\n",
       "        vertical-align: middle;\n",
       "    }\n",
       "\n",
       "    .dataframe tbody tr th {\n",
       "        vertical-align: top;\n",
       "    }\n",
       "\n",
       "    .dataframe thead th {\n",
       "        text-align: right;\n",
       "    }\n",
       "</style>\n",
       "<table border=\"1\" class=\"dataframe\">\n",
       "  <thead>\n",
       "    <tr style=\"text-align: right;\">\n",
       "      <th></th>\n",
       "      <th>R2</th>\n",
       "      <th>MAE</th>\n",
       "      <th>MSE</th>\n",
       "      <th>RMSE</th>\n",
       "    </tr>\n",
       "  </thead>\n",
       "  <tbody>\n",
       "    <tr>\n",
       "      <th>Training KNN</th>\n",
       "      <td>0.73</td>\n",
       "      <td>3.23</td>\n",
       "      <td>33.16</td>\n",
       "      <td>5.76</td>\n",
       "    </tr>\n",
       "    <tr>\n",
       "      <th>Testing KNN</th>\n",
       "      <td>0.53</td>\n",
       "      <td>4.07</td>\n",
       "      <td>65.96</td>\n",
       "      <td>8.12</td>\n",
       "    </tr>\n",
       "    <tr>\n",
       "      <th>Training KNN with StandardScaler</th>\n",
       "      <td>0.90</td>\n",
       "      <td>1.61</td>\n",
       "      <td>12.47</td>\n",
       "      <td>3.53</td>\n",
       "    </tr>\n",
       "    <tr>\n",
       "      <th>Testing KNN with StandardScaler</th>\n",
       "      <td>0.81</td>\n",
       "      <td>2.11</td>\n",
       "      <td>26.14</td>\n",
       "      <td>5.11</td>\n",
       "    </tr>\n",
       "  </tbody>\n",
       "</table>\n",
       "</div>"
      ],
      "text/plain": [
       "                                    R2   MAE    MSE  RMSE\n",
       "Training KNN                      0.73  3.23  33.16  5.76\n",
       "Testing KNN                       0.53  4.07  65.96  8.12\n",
       "Training KNN with StandardScaler  0.90  1.61  12.47  3.53\n",
       "Testing KNN with StandardScaler   0.81  2.11  26.14  5.11"
      ]
     },
     "execution_count": 35,
     "metadata": {},
     "output_type": "execute_result"
    }
   ],
   "source": [
    "## Compare with before scaling\n",
    "pd.concat((df_KNN, df_KNN_sc)).round(2)\n",
    "## Result: R-Squared score soaring high from 0.53 to 0.81 after Scaling"
   ]
  },
  {
   "cell_type": "code",
   "execution_count": 36,
   "metadata": {},
   "outputs": [
    {
     "data": {
      "text/html": [
       "<div>\n",
       "<style scoped>\n",
       "    .dataframe tbody tr th:only-of-type {\n",
       "        vertical-align: middle;\n",
       "    }\n",
       "\n",
       "    .dataframe tbody tr th {\n",
       "        vertical-align: top;\n",
       "    }\n",
       "\n",
       "    .dataframe thead th {\n",
       "        text-align: right;\n",
       "    }\n",
       "</style>\n",
       "<table border=\"1\" class=\"dataframe\">\n",
       "  <thead>\n",
       "    <tr style=\"text-align: right;\">\n",
       "      <th></th>\n",
       "      <th>R2</th>\n",
       "      <th>MAE</th>\n",
       "      <th>MSE</th>\n",
       "      <th>RMSE</th>\n",
       "    </tr>\n",
       "  </thead>\n",
       "  <tbody>\n",
       "    <tr>\n",
       "      <th>Training SVR with StandardScaler</th>\n",
       "      <td>0.74</td>\n",
       "      <td>2.27</td>\n",
       "      <td>32.15</td>\n",
       "      <td>5.67</td>\n",
       "    </tr>\n",
       "    <tr>\n",
       "      <th>Testing SVR with StandardScaler</th>\n",
       "      <td>0.71</td>\n",
       "      <td>2.44</td>\n",
       "      <td>40.45</td>\n",
       "      <td>6.36</td>\n",
       "    </tr>\n",
       "  </tbody>\n",
       "</table>\n",
       "</div>"
      ],
      "text/plain": [
       "                                    R2   MAE    MSE  RMSE\n",
       "Training SVR with StandardScaler  0.74  2.27  32.15  5.67\n",
       "Testing SVR with StandardScaler   0.71  2.44  40.45  6.36"
      ]
     },
     "execution_count": 36,
     "metadata": {},
     "output_type": "execute_result"
    }
   ],
   "source": [
    "## Run Function for Evaluation Matrix\n",
    "df_SVR_sc = Eva_Matrix(SVR(), x_train_sc, x_test_sc, y_train, y_test, 'SVR with StandardScaler')\n",
    "df_SVR_sc.round(2)\n",
    "## Good score but not that ideal"
   ]
  },
  {
   "cell_type": "code",
   "execution_count": 37,
   "metadata": {},
   "outputs": [
    {
     "data": {
      "text/html": [
       "<div>\n",
       "<style scoped>\n",
       "    .dataframe tbody tr th:only-of-type {\n",
       "        vertical-align: middle;\n",
       "    }\n",
       "\n",
       "    .dataframe tbody tr th {\n",
       "        vertical-align: top;\n",
       "    }\n",
       "\n",
       "    .dataframe thead th {\n",
       "        text-align: right;\n",
       "    }\n",
       "</style>\n",
       "<table border=\"1\" class=\"dataframe\">\n",
       "  <thead>\n",
       "    <tr style=\"text-align: right;\">\n",
       "      <th></th>\n",
       "      <th>R2</th>\n",
       "      <th>MAE</th>\n",
       "      <th>MSE</th>\n",
       "      <th>RMSE</th>\n",
       "    </tr>\n",
       "  </thead>\n",
       "  <tbody>\n",
       "    <tr>\n",
       "      <th>Training SVR</th>\n",
       "      <td>-0.08</td>\n",
       "      <td>5.92</td>\n",
       "      <td>132.24</td>\n",
       "      <td>11.50</td>\n",
       "    </tr>\n",
       "    <tr>\n",
       "      <th>Testing SVR</th>\n",
       "      <td>-0.07</td>\n",
       "      <td>5.98</td>\n",
       "      <td>149.40</td>\n",
       "      <td>12.22</td>\n",
       "    </tr>\n",
       "    <tr>\n",
       "      <th>Training SVR with StandardScaler</th>\n",
       "      <td>0.74</td>\n",
       "      <td>2.27</td>\n",
       "      <td>32.15</td>\n",
       "      <td>5.67</td>\n",
       "    </tr>\n",
       "    <tr>\n",
       "      <th>Testing SVR with StandardScaler</th>\n",
       "      <td>0.71</td>\n",
       "      <td>2.44</td>\n",
       "      <td>40.45</td>\n",
       "      <td>6.36</td>\n",
       "    </tr>\n",
       "  </tbody>\n",
       "</table>\n",
       "</div>"
      ],
      "text/plain": [
       "                                    R2   MAE     MSE   RMSE\n",
       "Training SVR                     -0.08  5.92  132.24  11.50\n",
       "Testing SVR                      -0.07  5.98  149.40  12.22\n",
       "Training SVR with StandardScaler  0.74  2.27   32.15   5.67\n",
       "Testing SVR with StandardScaler   0.71  2.44   40.45   6.36"
      ]
     },
     "execution_count": 37,
     "metadata": {},
     "output_type": "execute_result"
    }
   ],
   "source": [
    "## Compare with before scaling\n",
    "pd.concat((df_SVR, df_SVR_sc)).round(2)\n",
    "## Result: R-Squared score also increase significantly from below 0 to 0.71 after Scaling"
   ]
  },
  {
   "cell_type": "markdown",
   "metadata": {},
   "source": [
    "<hr>\n",
    "\n",
    "## 4. Hyper-Parameter Tuning"
   ]
  },
  {
   "cell_type": "code",
   "execution_count": 38,
   "metadata": {},
   "outputs": [],
   "source": [
    "## Import Package\n",
    "from sklearn.model_selection import GridSearchCV"
   ]
  },
  {
   "cell_type": "code",
   "execution_count": 39,
   "metadata": {},
   "outputs": [],
   "source": [
    "## Build Model\n",
    "kf = KFold(n_splits=5)"
   ]
  },
  {
   "cell_type": "markdown",
   "metadata": {},
   "source": [
    "### KNN"
   ]
  },
  {
   "cell_type": "code",
   "execution_count": 40,
   "metadata": {},
   "outputs": [],
   "source": [
    "## Define parameter for GridSearch in Dictionary Format\n",
    "param_KNN={\n",
    "    'n_neighbors':range(1,70,2),\n",
    "    'weights':['uniform','distance'],\n",
    "    'p':[1,2]\n",
    "}"
   ]
  },
  {
   "cell_type": "code",
   "execution_count": 41,
   "metadata": {},
   "outputs": [
    {
     "name": "stdout",
     "output_type": "stream",
     "text": [
      "Fitting 5 folds for each of 140 candidates, totalling 700 fits\n"
     ]
    },
    {
     "data": {
      "text/html": [
       "<style>#sk-container-id-1 {color: black;background-color: white;}#sk-container-id-1 pre{padding: 0;}#sk-container-id-1 div.sk-toggleable {background-color: white;}#sk-container-id-1 label.sk-toggleable__label {cursor: pointer;display: block;width: 100%;margin-bottom: 0;padding: 0.3em;box-sizing: border-box;text-align: center;}#sk-container-id-1 label.sk-toggleable__label-arrow:before {content: \"▸\";float: left;margin-right: 0.25em;color: #696969;}#sk-container-id-1 label.sk-toggleable__label-arrow:hover:before {color: black;}#sk-container-id-1 div.sk-estimator:hover label.sk-toggleable__label-arrow:before {color: black;}#sk-container-id-1 div.sk-toggleable__content {max-height: 0;max-width: 0;overflow: hidden;text-align: left;background-color: #f0f8ff;}#sk-container-id-1 div.sk-toggleable__content pre {margin: 0.2em;color: black;border-radius: 0.25em;background-color: #f0f8ff;}#sk-container-id-1 input.sk-toggleable__control:checked~div.sk-toggleable__content {max-height: 200px;max-width: 100%;overflow: auto;}#sk-container-id-1 input.sk-toggleable__control:checked~label.sk-toggleable__label-arrow:before {content: \"▾\";}#sk-container-id-1 div.sk-estimator input.sk-toggleable__control:checked~label.sk-toggleable__label {background-color: #d4ebff;}#sk-container-id-1 div.sk-label input.sk-toggleable__control:checked~label.sk-toggleable__label {background-color: #d4ebff;}#sk-container-id-1 input.sk-hidden--visually {border: 0;clip: rect(1px 1px 1px 1px);clip: rect(1px, 1px, 1px, 1px);height: 1px;margin: -1px;overflow: hidden;padding: 0;position: absolute;width: 1px;}#sk-container-id-1 div.sk-estimator {font-family: monospace;background-color: #f0f8ff;border: 1px dotted black;border-radius: 0.25em;box-sizing: border-box;margin-bottom: 0.5em;}#sk-container-id-1 div.sk-estimator:hover {background-color: #d4ebff;}#sk-container-id-1 div.sk-parallel-item::after {content: \"\";width: 100%;border-bottom: 1px solid gray;flex-grow: 1;}#sk-container-id-1 div.sk-label:hover label.sk-toggleable__label {background-color: #d4ebff;}#sk-container-id-1 div.sk-serial::before {content: \"\";position: absolute;border-left: 1px solid gray;box-sizing: border-box;top: 0;bottom: 0;left: 50%;z-index: 0;}#sk-container-id-1 div.sk-serial {display: flex;flex-direction: column;align-items: center;background-color: white;padding-right: 0.2em;padding-left: 0.2em;position: relative;}#sk-container-id-1 div.sk-item {position: relative;z-index: 1;}#sk-container-id-1 div.sk-parallel {display: flex;align-items: stretch;justify-content: center;background-color: white;position: relative;}#sk-container-id-1 div.sk-item::before, #sk-container-id-1 div.sk-parallel-item::before {content: \"\";position: absolute;border-left: 1px solid gray;box-sizing: border-box;top: 0;bottom: 0;left: 50%;z-index: -1;}#sk-container-id-1 div.sk-parallel-item {display: flex;flex-direction: column;z-index: 1;position: relative;background-color: white;}#sk-container-id-1 div.sk-parallel-item:first-child::after {align-self: flex-end;width: 50%;}#sk-container-id-1 div.sk-parallel-item:last-child::after {align-self: flex-start;width: 50%;}#sk-container-id-1 div.sk-parallel-item:only-child::after {width: 0;}#sk-container-id-1 div.sk-dashed-wrapped {border: 1px dashed gray;margin: 0 0.4em 0.5em 0.4em;box-sizing: border-box;padding-bottom: 0.4em;background-color: white;}#sk-container-id-1 div.sk-label label {font-family: monospace;font-weight: bold;display: inline-block;line-height: 1.2em;}#sk-container-id-1 div.sk-label-container {text-align: center;}#sk-container-id-1 div.sk-container {/* jupyter's `normalize.less` sets `[hidden] { display: none; }` but bootstrap.min.css set `[hidden] { display: none !important; }` so we also need the `!important` here to be able to override the default hidden behavior on the sphinx rendered scikit-learn.org. See: https://github.com/scikit-learn/scikit-learn/issues/21755 */display: inline-block !important;position: relative;}#sk-container-id-1 div.sk-text-repr-fallback {display: none;}</style><div id=\"sk-container-id-1\" class=\"sk-top-container\"><div class=\"sk-text-repr-fallback\"><pre>GridSearchCV(cv=KFold(n_splits=5, random_state=None, shuffle=False),\n",
       "             estimator=KNeighborsRegressor(), n_jobs=-1,\n",
       "             param_grid={&#x27;n_neighbors&#x27;: range(1, 70, 2), &#x27;p&#x27;: [1, 2],\n",
       "                         &#x27;weights&#x27;: [&#x27;uniform&#x27;, &#x27;distance&#x27;]},\n",
       "             scoring=&#x27;r2&#x27;, verbose=3)</pre><b>In a Jupyter environment, please rerun this cell to show the HTML representation or trust the notebook. <br />On GitHub, the HTML representation is unable to render, please try loading this page with nbviewer.org.</b></div><div class=\"sk-container\" hidden><div class=\"sk-item sk-dashed-wrapped\"><div class=\"sk-label-container\"><div class=\"sk-label sk-toggleable\"><input class=\"sk-toggleable__control sk-hidden--visually\" id=\"sk-estimator-id-1\" type=\"checkbox\" ><label for=\"sk-estimator-id-1\" class=\"sk-toggleable__label sk-toggleable__label-arrow\">GridSearchCV</label><div class=\"sk-toggleable__content\"><pre>GridSearchCV(cv=KFold(n_splits=5, random_state=None, shuffle=False),\n",
       "             estimator=KNeighborsRegressor(), n_jobs=-1,\n",
       "             param_grid={&#x27;n_neighbors&#x27;: range(1, 70, 2), &#x27;p&#x27;: [1, 2],\n",
       "                         &#x27;weights&#x27;: [&#x27;uniform&#x27;, &#x27;distance&#x27;]},\n",
       "             scoring=&#x27;r2&#x27;, verbose=3)</pre></div></div></div><div class=\"sk-parallel\"><div class=\"sk-parallel-item\"><div class=\"sk-item\"><div class=\"sk-label-container\"><div class=\"sk-label sk-toggleable\"><input class=\"sk-toggleable__control sk-hidden--visually\" id=\"sk-estimator-id-2\" type=\"checkbox\" ><label for=\"sk-estimator-id-2\" class=\"sk-toggleable__label sk-toggleable__label-arrow\">estimator: KNeighborsRegressor</label><div class=\"sk-toggleable__content\"><pre>KNeighborsRegressor()</pre></div></div></div><div class=\"sk-serial\"><div class=\"sk-item\"><div class=\"sk-estimator sk-toggleable\"><input class=\"sk-toggleable__control sk-hidden--visually\" id=\"sk-estimator-id-3\" type=\"checkbox\" ><label for=\"sk-estimator-id-3\" class=\"sk-toggleable__label sk-toggleable__label-arrow\">KNeighborsRegressor</label><div class=\"sk-toggleable__content\"><pre>KNeighborsRegressor()</pre></div></div></div></div></div></div></div></div></div></div>"
      ],
      "text/plain": [
       "GridSearchCV(cv=KFold(n_splits=5, random_state=None, shuffle=False),\n",
       "             estimator=KNeighborsRegressor(), n_jobs=-1,\n",
       "             param_grid={'n_neighbors': range(1, 70, 2), 'p': [1, 2],\n",
       "                         'weights': ['uniform', 'distance']},\n",
       "             scoring='r2', verbose=3)"
      ]
     },
     "execution_count": 41,
     "metadata": {},
     "output_type": "execute_result"
    }
   ],
   "source": [
    "## Run GridSearch Model\n",
    "KNN_GS=GridSearchCV(KNeighborsRegressor(),\n",
    "                            param_KNN,\n",
    "                            cv = kf,\n",
    "                            n_jobs = -1,\n",
    "                            verbose = 3,\n",
    "                            scoring = 'r2')\n",
    "## Fit Model\n",
    "KNN_GS.fit(x_train_sc,y_train)"
   ]
  },
  {
   "cell_type": "code",
   "execution_count": 42,
   "metadata": {},
   "outputs": [
    {
     "name": "stdout",
     "output_type": "stream",
     "text": [
      "Fitting 5 folds for each of 140 candidates, totalling 700 fits\n"
     ]
    },
    {
     "data": {
      "text/html": [
       "<div>\n",
       "<style scoped>\n",
       "    .dataframe tbody tr th:only-of-type {\n",
       "        vertical-align: middle;\n",
       "    }\n",
       "\n",
       "    .dataframe tbody tr th {\n",
       "        vertical-align: top;\n",
       "    }\n",
       "\n",
       "    .dataframe thead th {\n",
       "        text-align: right;\n",
       "    }\n",
       "</style>\n",
       "<table border=\"1\" class=\"dataframe\">\n",
       "  <thead>\n",
       "    <tr style=\"text-align: right;\">\n",
       "      <th></th>\n",
       "      <th>R2</th>\n",
       "      <th>MAE</th>\n",
       "      <th>MSE</th>\n",
       "      <th>RMSE</th>\n",
       "    </tr>\n",
       "  </thead>\n",
       "  <tbody>\n",
       "    <tr>\n",
       "      <th>Training KNN + GS + SC</th>\n",
       "      <td>0.9999</td>\n",
       "      <td>0.0055</td>\n",
       "      <td>0.0082</td>\n",
       "      <td>0.0908</td>\n",
       "    </tr>\n",
       "    <tr>\n",
       "      <th>Testing KNN + GS + SC</th>\n",
       "      <td>0.8451</td>\n",
       "      <td>1.8507</td>\n",
       "      <td>21.7031</td>\n",
       "      <td>4.6587</td>\n",
       "    </tr>\n",
       "  </tbody>\n",
       "</table>\n",
       "</div>"
      ],
      "text/plain": [
       "                            R2     MAE      MSE    RMSE\n",
       "Training KNN + GS + SC  0.9999  0.0055   0.0082  0.0908\n",
       "Testing KNN + GS + SC   0.8451  1.8507  21.7031  4.6587"
      ]
     },
     "execution_count": 42,
     "metadata": {},
     "output_type": "execute_result"
    }
   ],
   "source": [
    "## Run Evaluation Matrix Scoring function for KNN with GridSearch and StandardScaler Model\n",
    "df_KNN_GS= Eva_Matrix(KNN_GS, \n",
    "                        x_train_sc, \n",
    "                        x_test_sc, \n",
    "                        y_train, \n",
    "                        y_test, \n",
    "                        'KNN + GS + SC')\n",
    "## Show result\n",
    "df_KNN_GS.round(4)\n",
    "## Result: Training R-Squared Score show overfitting in the Model, but score is better than before tuning"
   ]
  },
  {
   "cell_type": "code",
   "execution_count": 43,
   "metadata": {},
   "outputs": [
    {
     "name": "stdout",
     "output_type": "stream",
     "text": [
      "Best KNN GridSearch + StandardScaler Tuning Score:  0.851\n",
      "Best KNN GridSearch + StandardScaler Tuning Parameter:  {'n_neighbors': 3, 'p': 1, 'weights': 'distance'}\n"
     ]
    }
   ],
   "source": [
    "## Best Tuning Score and Parameter\n",
    "print('Best KNN GridSearch + StandardScaler Tuning Score: ', KNN_GS.best_score_.round(4))\n",
    "print('Best KNN GridSearch + StandardScaler Tuning Parameter: ', KNN_GS.best_params_)"
   ]
  },
  {
   "cell_type": "code",
   "execution_count": 44,
   "metadata": {},
   "outputs": [],
   "source": [
    "## Insert Best Parameter into Model\n",
    "KNN_Tuned=KNN_GS.best_estimator_"
   ]
  },
  {
   "cell_type": "code",
   "execution_count": 45,
   "metadata": {},
   "outputs": [
    {
     "data": {
      "text/html": [
       "<div>\n",
       "<style scoped>\n",
       "    .dataframe tbody tr th:only-of-type {\n",
       "        vertical-align: middle;\n",
       "    }\n",
       "\n",
       "    .dataframe tbody tr th {\n",
       "        vertical-align: top;\n",
       "    }\n",
       "\n",
       "    .dataframe thead th {\n",
       "        text-align: right;\n",
       "    }\n",
       "</style>\n",
       "<table border=\"1\" class=\"dataframe\">\n",
       "  <thead>\n",
       "    <tr style=\"text-align: right;\">\n",
       "      <th></th>\n",
       "      <th>R2</th>\n",
       "      <th>MAE</th>\n",
       "      <th>MSE</th>\n",
       "      <th>RMSE</th>\n",
       "    </tr>\n",
       "  </thead>\n",
       "  <tbody>\n",
       "    <tr>\n",
       "      <th>Training KNN Tuned</th>\n",
       "      <td>0.9999</td>\n",
       "      <td>0.0055</td>\n",
       "      <td>0.0082</td>\n",
       "      <td>0.0908</td>\n",
       "    </tr>\n",
       "    <tr>\n",
       "      <th>Testing KNN Tuned</th>\n",
       "      <td>0.8451</td>\n",
       "      <td>1.8507</td>\n",
       "      <td>21.7031</td>\n",
       "      <td>4.6587</td>\n",
       "    </tr>\n",
       "  </tbody>\n",
       "</table>\n",
       "</div>"
      ],
      "text/plain": [
       "                        R2     MAE      MSE    RMSE\n",
       "Training KNN Tuned  0.9999  0.0055   0.0082  0.0908\n",
       "Testing KNN Tuned   0.8451  1.8507  21.7031  4.6587"
      ]
     },
     "execution_count": 45,
     "metadata": {},
     "output_type": "execute_result"
    }
   ],
   "source": [
    "## Run Evaluation Matrix Scoring function for tuned Model\n",
    "df_KNN_Tuned= Eva_Matrix(KNN_Tuned, \n",
    "                        x_train_sc, \n",
    "                        x_test_sc, \n",
    "                        y_train, \n",
    "                        y_test, \n",
    "                        'KNN Tuned')\n",
    "## Show result\n",
    "df_KNN_Tuned.round(4)\n",
    "## Result: Training R-Squared Score show overfitting in the Model, but better than before Tuning"
   ]
  },
  {
   "cell_type": "code",
   "execution_count": 63,
   "metadata": {},
   "outputs": [
    {
     "data": {
      "text/html": [
       "<div>\n",
       "<style scoped>\n",
       "    .dataframe tbody tr th:only-of-type {\n",
       "        vertical-align: middle;\n",
       "    }\n",
       "\n",
       "    .dataframe tbody tr th {\n",
       "        vertical-align: top;\n",
       "    }\n",
       "\n",
       "    .dataframe thead th {\n",
       "        text-align: right;\n",
       "    }\n",
       "</style>\n",
       "<table border=\"1\" class=\"dataframe\">\n",
       "  <thead>\n",
       "    <tr style=\"text-align: right;\">\n",
       "      <th></th>\n",
       "      <th>R2</th>\n",
       "      <th>MAE</th>\n",
       "      <th>MSE</th>\n",
       "      <th>RMSE</th>\n",
       "    </tr>\n",
       "  </thead>\n",
       "  <tbody>\n",
       "    <tr>\n",
       "      <th>Training KNN</th>\n",
       "      <td>0.7295</td>\n",
       "      <td>3.2261</td>\n",
       "      <td>33.1573</td>\n",
       "      <td>5.7582</td>\n",
       "    </tr>\n",
       "    <tr>\n",
       "      <th>Testing KNN</th>\n",
       "      <td>0.5294</td>\n",
       "      <td>4.0726</td>\n",
       "      <td>65.9582</td>\n",
       "      <td>8.1215</td>\n",
       "    </tr>\n",
       "    <tr>\n",
       "      <th>Training KNN with StandardScaler</th>\n",
       "      <td>0.8983</td>\n",
       "      <td>1.6099</td>\n",
       "      <td>12.4703</td>\n",
       "      <td>3.5313</td>\n",
       "    </tr>\n",
       "    <tr>\n",
       "      <th>Testing KNN with StandardScaler</th>\n",
       "      <td>0.8135</td>\n",
       "      <td>2.1086</td>\n",
       "      <td>26.1363</td>\n",
       "      <td>5.1124</td>\n",
       "    </tr>\n",
       "    <tr>\n",
       "      <th>Training KNN Tuned</th>\n",
       "      <td>0.9999</td>\n",
       "      <td>0.0055</td>\n",
       "      <td>0.0082</td>\n",
       "      <td>0.0908</td>\n",
       "    </tr>\n",
       "    <tr>\n",
       "      <th>Testing KNN Tuned</th>\n",
       "      <td>0.8451</td>\n",
       "      <td>1.8507</td>\n",
       "      <td>21.7031</td>\n",
       "      <td>4.6587</td>\n",
       "    </tr>\n",
       "  </tbody>\n",
       "</table>\n",
       "</div>"
      ],
      "text/plain": [
       "                                      R2     MAE      MSE    RMSE\n",
       "Training KNN                      0.7295  3.2261  33.1573  5.7582\n",
       "Testing KNN                       0.5294  4.0726  65.9582  8.1215\n",
       "Training KNN with StandardScaler  0.8983  1.6099  12.4703  3.5313\n",
       "Testing KNN with StandardScaler   0.8135  2.1086  26.1363  5.1124\n",
       "Training KNN Tuned                0.9999  0.0055   0.0082  0.0908\n",
       "Testing KNN Tuned                 0.8451  1.8507  21.7031  4.6587"
      ]
     },
     "execution_count": 63,
     "metadata": {},
     "output_type": "execute_result"
    }
   ],
   "source": [
    "## Combine with Model before GridSearch\n",
    "pd.concat((df_KNN, df_KNN_sc, df_KNN_Tuned)).round(4)\n",
    "## Testing score has scored higher than previous Model before using GridSearch\n",
    "### However, the Model is more overfit than previous one.\n",
    "### Therefore, we choose to use KNN + StandardScaler without GridSearch because Model show more stability\n",
    "### In addition, the R-Squared score is good enough to be consider as an ideal Model."
   ]
  },
  {
   "cell_type": "markdown",
   "metadata": {},
   "source": [
    "### SVR"
   ]
  },
  {
   "cell_type": "code",
   "execution_count": 52,
   "metadata": {},
   "outputs": [],
   "source": [
    "## Define parameter for GridSearch in Dictionary Format\n",
    "param_SVR={\n",
    "    'C' : np.arange(0, 5, 0.1),\n",
    "    'gamma': np.arange(0, 5, 0.1),\n",
    "    # 'kernel' : ['rbf','linear']\n",
    "}"
   ]
  },
  {
   "cell_type": "code",
   "execution_count": 53,
   "metadata": {},
   "outputs": [
    {
     "name": "stdout",
     "output_type": "stream",
     "text": [
      "Fitting 3 folds for each of 2500 candidates, totalling 7500 fits\n"
     ]
    },
    {
     "data": {
      "text/html": [
       "<style>#sk-container-id-3 {color: black;background-color: white;}#sk-container-id-3 pre{padding: 0;}#sk-container-id-3 div.sk-toggleable {background-color: white;}#sk-container-id-3 label.sk-toggleable__label {cursor: pointer;display: block;width: 100%;margin-bottom: 0;padding: 0.3em;box-sizing: border-box;text-align: center;}#sk-container-id-3 label.sk-toggleable__label-arrow:before {content: \"▸\";float: left;margin-right: 0.25em;color: #696969;}#sk-container-id-3 label.sk-toggleable__label-arrow:hover:before {color: black;}#sk-container-id-3 div.sk-estimator:hover label.sk-toggleable__label-arrow:before {color: black;}#sk-container-id-3 div.sk-toggleable__content {max-height: 0;max-width: 0;overflow: hidden;text-align: left;background-color: #f0f8ff;}#sk-container-id-3 div.sk-toggleable__content pre {margin: 0.2em;color: black;border-radius: 0.25em;background-color: #f0f8ff;}#sk-container-id-3 input.sk-toggleable__control:checked~div.sk-toggleable__content {max-height: 200px;max-width: 100%;overflow: auto;}#sk-container-id-3 input.sk-toggleable__control:checked~label.sk-toggleable__label-arrow:before {content: \"▾\";}#sk-container-id-3 div.sk-estimator input.sk-toggleable__control:checked~label.sk-toggleable__label {background-color: #d4ebff;}#sk-container-id-3 div.sk-label input.sk-toggleable__control:checked~label.sk-toggleable__label {background-color: #d4ebff;}#sk-container-id-3 input.sk-hidden--visually {border: 0;clip: rect(1px 1px 1px 1px);clip: rect(1px, 1px, 1px, 1px);height: 1px;margin: -1px;overflow: hidden;padding: 0;position: absolute;width: 1px;}#sk-container-id-3 div.sk-estimator {font-family: monospace;background-color: #f0f8ff;border: 1px dotted black;border-radius: 0.25em;box-sizing: border-box;margin-bottom: 0.5em;}#sk-container-id-3 div.sk-estimator:hover {background-color: #d4ebff;}#sk-container-id-3 div.sk-parallel-item::after {content: \"\";width: 100%;border-bottom: 1px solid gray;flex-grow: 1;}#sk-container-id-3 div.sk-label:hover label.sk-toggleable__label {background-color: #d4ebff;}#sk-container-id-3 div.sk-serial::before {content: \"\";position: absolute;border-left: 1px solid gray;box-sizing: border-box;top: 0;bottom: 0;left: 50%;z-index: 0;}#sk-container-id-3 div.sk-serial {display: flex;flex-direction: column;align-items: center;background-color: white;padding-right: 0.2em;padding-left: 0.2em;position: relative;}#sk-container-id-3 div.sk-item {position: relative;z-index: 1;}#sk-container-id-3 div.sk-parallel {display: flex;align-items: stretch;justify-content: center;background-color: white;position: relative;}#sk-container-id-3 div.sk-item::before, #sk-container-id-3 div.sk-parallel-item::before {content: \"\";position: absolute;border-left: 1px solid gray;box-sizing: border-box;top: 0;bottom: 0;left: 50%;z-index: -1;}#sk-container-id-3 div.sk-parallel-item {display: flex;flex-direction: column;z-index: 1;position: relative;background-color: white;}#sk-container-id-3 div.sk-parallel-item:first-child::after {align-self: flex-end;width: 50%;}#sk-container-id-3 div.sk-parallel-item:last-child::after {align-self: flex-start;width: 50%;}#sk-container-id-3 div.sk-parallel-item:only-child::after {width: 0;}#sk-container-id-3 div.sk-dashed-wrapped {border: 1px dashed gray;margin: 0 0.4em 0.5em 0.4em;box-sizing: border-box;padding-bottom: 0.4em;background-color: white;}#sk-container-id-3 div.sk-label label {font-family: monospace;font-weight: bold;display: inline-block;line-height: 1.2em;}#sk-container-id-3 div.sk-label-container {text-align: center;}#sk-container-id-3 div.sk-container {/* jupyter's `normalize.less` sets `[hidden] { display: none; }` but bootstrap.min.css set `[hidden] { display: none !important; }` so we also need the `!important` here to be able to override the default hidden behavior on the sphinx rendered scikit-learn.org. See: https://github.com/scikit-learn/scikit-learn/issues/21755 */display: inline-block !important;position: relative;}#sk-container-id-3 div.sk-text-repr-fallback {display: none;}</style><div id=\"sk-container-id-3\" class=\"sk-top-container\"><div class=\"sk-text-repr-fallback\"><pre>GridSearchCV(cv=KFold(n_splits=3, random_state=None, shuffle=False),\n",
       "             estimator=SVR(max_iter=300), n_jobs=-1,\n",
       "             param_grid={&#x27;C&#x27;: array([0. , 0.1, 0.2, 0.3, 0.4, 0.5, 0.6, 0.7, 0.8, 0.9, 1. , 1.1, 1.2,\n",
       "       1.3, 1.4, 1.5, 1.6, 1.7, 1.8, 1.9, 2. , 2.1, 2.2, 2.3, 2.4, 2.5,\n",
       "       2.6, 2.7, 2.8, 2.9, 3. , 3.1, 3.2, 3.3, 3.4, 3.5, 3.6, 3.7, 3.8,\n",
       "       3.9, 4. , 4.1, 4.2, 4.3, 4.4, 4.5, 4.6, 4.7, 4.8, 4.9]),\n",
       "                         &#x27;gamma&#x27;: array([0. , 0.1, 0.2, 0.3, 0.4, 0.5, 0.6, 0.7, 0.8, 0.9, 1. , 1.1, 1.2,\n",
       "       1.3, 1.4, 1.5, 1.6, 1.7, 1.8, 1.9, 2. , 2.1, 2.2, 2.3, 2.4, 2.5,\n",
       "       2.6, 2.7, 2.8, 2.9, 3. , 3.1, 3.2, 3.3, 3.4, 3.5, 3.6, 3.7, 3.8,\n",
       "       3.9, 4. , 4.1, 4.2, 4.3, 4.4, 4.5, 4.6, 4.7, 4.8, 4.9])},\n",
       "             scoring=&#x27;r2&#x27;, verbose=1)</pre><b>In a Jupyter environment, please rerun this cell to show the HTML representation or trust the notebook. <br />On GitHub, the HTML representation is unable to render, please try loading this page with nbviewer.org.</b></div><div class=\"sk-container\" hidden><div class=\"sk-item sk-dashed-wrapped\"><div class=\"sk-label-container\"><div class=\"sk-label sk-toggleable\"><input class=\"sk-toggleable__control sk-hidden--visually\" id=\"sk-estimator-id-7\" type=\"checkbox\" ><label for=\"sk-estimator-id-7\" class=\"sk-toggleable__label sk-toggleable__label-arrow\">GridSearchCV</label><div class=\"sk-toggleable__content\"><pre>GridSearchCV(cv=KFold(n_splits=3, random_state=None, shuffle=False),\n",
       "             estimator=SVR(max_iter=300), n_jobs=-1,\n",
       "             param_grid={&#x27;C&#x27;: array([0. , 0.1, 0.2, 0.3, 0.4, 0.5, 0.6, 0.7, 0.8, 0.9, 1. , 1.1, 1.2,\n",
       "       1.3, 1.4, 1.5, 1.6, 1.7, 1.8, 1.9, 2. , 2.1, 2.2, 2.3, 2.4, 2.5,\n",
       "       2.6, 2.7, 2.8, 2.9, 3. , 3.1, 3.2, 3.3, 3.4, 3.5, 3.6, 3.7, 3.8,\n",
       "       3.9, 4. , 4.1, 4.2, 4.3, 4.4, 4.5, 4.6, 4.7, 4.8, 4.9]),\n",
       "                         &#x27;gamma&#x27;: array([0. , 0.1, 0.2, 0.3, 0.4, 0.5, 0.6, 0.7, 0.8, 0.9, 1. , 1.1, 1.2,\n",
       "       1.3, 1.4, 1.5, 1.6, 1.7, 1.8, 1.9, 2. , 2.1, 2.2, 2.3, 2.4, 2.5,\n",
       "       2.6, 2.7, 2.8, 2.9, 3. , 3.1, 3.2, 3.3, 3.4, 3.5, 3.6, 3.7, 3.8,\n",
       "       3.9, 4. , 4.1, 4.2, 4.3, 4.4, 4.5, 4.6, 4.7, 4.8, 4.9])},\n",
       "             scoring=&#x27;r2&#x27;, verbose=1)</pre></div></div></div><div class=\"sk-parallel\"><div class=\"sk-parallel-item\"><div class=\"sk-item\"><div class=\"sk-label-container\"><div class=\"sk-label sk-toggleable\"><input class=\"sk-toggleable__control sk-hidden--visually\" id=\"sk-estimator-id-8\" type=\"checkbox\" ><label for=\"sk-estimator-id-8\" class=\"sk-toggleable__label sk-toggleable__label-arrow\">estimator: SVR</label><div class=\"sk-toggleable__content\"><pre>SVR(max_iter=300)</pre></div></div></div><div class=\"sk-serial\"><div class=\"sk-item\"><div class=\"sk-estimator sk-toggleable\"><input class=\"sk-toggleable__control sk-hidden--visually\" id=\"sk-estimator-id-9\" type=\"checkbox\" ><label for=\"sk-estimator-id-9\" class=\"sk-toggleable__label sk-toggleable__label-arrow\">SVR</label><div class=\"sk-toggleable__content\"><pre>SVR(max_iter=300)</pre></div></div></div></div></div></div></div></div></div></div>"
      ],
      "text/plain": [
       "GridSearchCV(cv=KFold(n_splits=3, random_state=None, shuffle=False),\n",
       "             estimator=SVR(max_iter=300), n_jobs=-1,\n",
       "             param_grid={'C': array([0. , 0.1, 0.2, 0.3, 0.4, 0.5, 0.6, 0.7, 0.8, 0.9, 1. , 1.1, 1.2,\n",
       "       1.3, 1.4, 1.5, 1.6, 1.7, 1.8, 1.9, 2. , 2.1, 2.2, 2.3, 2.4, 2.5,\n",
       "       2.6, 2.7, 2.8, 2.9, 3. , 3.1, 3.2, 3.3, 3.4, 3.5, 3.6, 3.7, 3.8,\n",
       "       3.9, 4. , 4.1, 4.2, 4.3, 4.4, 4.5, 4.6, 4.7, 4.8, 4.9]),\n",
       "                         'gamma': array([0. , 0.1, 0.2, 0.3, 0.4, 0.5, 0.6, 0.7, 0.8, 0.9, 1. , 1.1, 1.2,\n",
       "       1.3, 1.4, 1.5, 1.6, 1.7, 1.8, 1.9, 2. , 2.1, 2.2, 2.3, 2.4, 2.5,\n",
       "       2.6, 2.7, 2.8, 2.9, 3. , 3.1, 3.2, 3.3, 3.4, 3.5, 3.6, 3.7, 3.8,\n",
       "       3.9, 4. , 4.1, 4.2, 4.3, 4.4, 4.5, 4.6, 4.7, 4.8, 4.9])},\n",
       "             scoring='r2', verbose=1)"
      ]
     },
     "execution_count": 53,
     "metadata": {},
     "output_type": "execute_result"
    }
   ],
   "source": [
    "## Run GridSearch Model\n",
    "SVR_GS=GridSearchCV(SVR(max_iter = 300),\n",
    "                    param_SVR,\n",
    "                    cv = KFold(n_splits=3),\n",
    "                    n_jobs = -1,\n",
    "                    verbose = 1,\n",
    "                    scoring = 'r2')\n",
    "## Fit Model\n",
    "SVR_GS.fit(x_train_sc,y_train)"
   ]
  },
  {
   "cell_type": "code",
   "execution_count": 54,
   "metadata": {},
   "outputs": [
    {
     "name": "stdout",
     "output_type": "stream",
     "text": [
      "Fitting 3 folds for each of 2500 candidates, totalling 7500 fits\n"
     ]
    },
    {
     "data": {
      "text/html": [
       "<div>\n",
       "<style scoped>\n",
       "    .dataframe tbody tr th:only-of-type {\n",
       "        vertical-align: middle;\n",
       "    }\n",
       "\n",
       "    .dataframe tbody tr th {\n",
       "        vertical-align: top;\n",
       "    }\n",
       "\n",
       "    .dataframe thead th {\n",
       "        text-align: right;\n",
       "    }\n",
       "</style>\n",
       "<table border=\"1\" class=\"dataframe\">\n",
       "  <thead>\n",
       "    <tr style=\"text-align: right;\">\n",
       "      <th></th>\n",
       "      <th>R2</th>\n",
       "      <th>MAE</th>\n",
       "      <th>MSE</th>\n",
       "      <th>RMSE</th>\n",
       "    </tr>\n",
       "  </thead>\n",
       "  <tbody>\n",
       "    <tr>\n",
       "      <th>Training SVR + GS + SC</th>\n",
       "      <td>0.6970</td>\n",
       "      <td>3.6337</td>\n",
       "      <td>37.1379</td>\n",
       "      <td>6.0941</td>\n",
       "    </tr>\n",
       "    <tr>\n",
       "      <th>Testing SVR + GS + SC</th>\n",
       "      <td>0.6655</td>\n",
       "      <td>3.8670</td>\n",
       "      <td>46.8807</td>\n",
       "      <td>6.8469</td>\n",
       "    </tr>\n",
       "  </tbody>\n",
       "</table>\n",
       "</div>"
      ],
      "text/plain": [
       "                            R2     MAE      MSE    RMSE\n",
       "Training SVR + GS + SC  0.6970  3.6337  37.1379  6.0941\n",
       "Testing SVR + GS + SC   0.6655  3.8670  46.8807  6.8469"
      ]
     },
     "execution_count": 54,
     "metadata": {},
     "output_type": "execute_result"
    }
   ],
   "source": [
    "## Run Evaluation Matrix Scoring function for SVR with GridSearch and StandardScaler Model\n",
    "df_SVR_GS= Eva_Matrix(SVR_GS, \n",
    "                        x_train_sc, \n",
    "                        x_test_sc, \n",
    "                        y_train, \n",
    "                        y_test, \n",
    "                        'SVR + GS + SC')\n",
    "## Show result\n",
    "df_SVR_GS.round(4)\n",
    "## Result: Model is stable but score is not ideal"
   ]
  },
  {
   "cell_type": "code",
   "execution_count": 57,
   "metadata": {},
   "outputs": [
    {
     "name": "stdout",
     "output_type": "stream",
     "text": [
      "Best SVR GridSearch + StandardScaler Tuning Score:  0.7307\n",
      "Best SVR GridSearch + StandardScaler Tuning Parameter:  {'C': 3.9000000000000004, 'gamma': 0.1}\n"
     ]
    }
   ],
   "source": [
    "## Best Tuning Score and Parameter\n",
    "print('Best SVR GridSearch + StandardScaler Tuning Score: ', SVR_GS.best_score_.round(4))\n",
    "print('Best SVR GridSearch + StandardScaler Tuning Parameter: ', SVR_GS.best_params_)"
   ]
  },
  {
   "cell_type": "code",
   "execution_count": 58,
   "metadata": {},
   "outputs": [],
   "source": [
    "## Insert Best Parameter into Model\n",
    "SVR_Tuned = SVR_GS.best_estimator_"
   ]
  },
  {
   "cell_type": "code",
   "execution_count": 59,
   "metadata": {},
   "outputs": [
    {
     "data": {
      "text/html": [
       "<div>\n",
       "<style scoped>\n",
       "    .dataframe tbody tr th:only-of-type {\n",
       "        vertical-align: middle;\n",
       "    }\n",
       "\n",
       "    .dataframe tbody tr th {\n",
       "        vertical-align: top;\n",
       "    }\n",
       "\n",
       "    .dataframe thead th {\n",
       "        text-align: right;\n",
       "    }\n",
       "</style>\n",
       "<table border=\"1\" class=\"dataframe\">\n",
       "  <thead>\n",
       "    <tr style=\"text-align: right;\">\n",
       "      <th></th>\n",
       "      <th>R2</th>\n",
       "      <th>MAE</th>\n",
       "      <th>MSE</th>\n",
       "      <th>RMSE</th>\n",
       "    </tr>\n",
       "  </thead>\n",
       "  <tbody>\n",
       "    <tr>\n",
       "      <th>Training SVR Tuned</th>\n",
       "      <td>0.6970</td>\n",
       "      <td>3.6337</td>\n",
       "      <td>37.1379</td>\n",
       "      <td>6.0941</td>\n",
       "    </tr>\n",
       "    <tr>\n",
       "      <th>Testing SVR Tuned</th>\n",
       "      <td>0.6655</td>\n",
       "      <td>3.8670</td>\n",
       "      <td>46.8807</td>\n",
       "      <td>6.8469</td>\n",
       "    </tr>\n",
       "  </tbody>\n",
       "</table>\n",
       "</div>"
      ],
      "text/plain": [
       "                        R2     MAE      MSE    RMSE\n",
       "Training SVR Tuned  0.6970  3.6337  37.1379  6.0941\n",
       "Testing SVR Tuned   0.6655  3.8670  46.8807  6.8469"
      ]
     },
     "execution_count": 59,
     "metadata": {},
     "output_type": "execute_result"
    }
   ],
   "source": [
    "## Run Evaluation Matrix Scoring function for tuned Model\n",
    "df_SVR_Tuned = Eva_Matrix(SVR_Tuned, \n",
    "                            x_train_sc, \n",
    "                            x_test_sc, \n",
    "                            y_train, \n",
    "                            y_test, \n",
    "                            'SVR Tuned')\n",
    "## Show result\n",
    "df_SVR_Tuned.round(4)\n",
    "## Result: Model is stable but score is not ideal"
   ]
  },
  {
   "cell_type": "code",
   "execution_count": 64,
   "metadata": {},
   "outputs": [
    {
     "data": {
      "text/html": [
       "<div>\n",
       "<style scoped>\n",
       "    .dataframe tbody tr th:only-of-type {\n",
       "        vertical-align: middle;\n",
       "    }\n",
       "\n",
       "    .dataframe tbody tr th {\n",
       "        vertical-align: top;\n",
       "    }\n",
       "\n",
       "    .dataframe thead th {\n",
       "        text-align: right;\n",
       "    }\n",
       "</style>\n",
       "<table border=\"1\" class=\"dataframe\">\n",
       "  <thead>\n",
       "    <tr style=\"text-align: right;\">\n",
       "      <th></th>\n",
       "      <th>R2</th>\n",
       "      <th>MAE</th>\n",
       "      <th>MSE</th>\n",
       "      <th>RMSE</th>\n",
       "    </tr>\n",
       "  </thead>\n",
       "  <tbody>\n",
       "    <tr>\n",
       "      <th>Training SVR</th>\n",
       "      <td>-0.0788</td>\n",
       "      <td>5.9159</td>\n",
       "      <td>132.2378</td>\n",
       "      <td>11.4995</td>\n",
       "    </tr>\n",
       "    <tr>\n",
       "      <th>Testing SVR</th>\n",
       "      <td>-0.0660</td>\n",
       "      <td>5.9829</td>\n",
       "      <td>149.3998</td>\n",
       "      <td>12.2229</td>\n",
       "    </tr>\n",
       "    <tr>\n",
       "      <th>Training SVR with StandardScaler</th>\n",
       "      <td>0.7377</td>\n",
       "      <td>2.2661</td>\n",
       "      <td>32.1503</td>\n",
       "      <td>5.6701</td>\n",
       "    </tr>\n",
       "    <tr>\n",
       "      <th>Testing SVR with StandardScaler</th>\n",
       "      <td>0.7114</td>\n",
       "      <td>2.4413</td>\n",
       "      <td>40.4491</td>\n",
       "      <td>6.3600</td>\n",
       "    </tr>\n",
       "    <tr>\n",
       "      <th>Training SVR Tuned</th>\n",
       "      <td>0.6970</td>\n",
       "      <td>3.6337</td>\n",
       "      <td>37.1379</td>\n",
       "      <td>6.0941</td>\n",
       "    </tr>\n",
       "    <tr>\n",
       "      <th>Testing SVR Tuned</th>\n",
       "      <td>0.6655</td>\n",
       "      <td>3.8670</td>\n",
       "      <td>46.8807</td>\n",
       "      <td>6.8469</td>\n",
       "    </tr>\n",
       "  </tbody>\n",
       "</table>\n",
       "</div>"
      ],
      "text/plain": [
       "                                      R2     MAE       MSE     RMSE\n",
       "Training SVR                     -0.0788  5.9159  132.2378  11.4995\n",
       "Testing SVR                      -0.0660  5.9829  149.3998  12.2229\n",
       "Training SVR with StandardScaler  0.7377  2.2661   32.1503   5.6701\n",
       "Testing SVR with StandardScaler   0.7114  2.4413   40.4491   6.3600\n",
       "Training SVR Tuned                0.6970  3.6337   37.1379   6.0941\n",
       "Testing SVR Tuned                 0.6655  3.8670   46.8807   6.8469"
      ]
     },
     "execution_count": 64,
     "metadata": {},
     "output_type": "execute_result"
    }
   ],
   "source": [
    "## Combine with Model before GridSearch\n",
    "pd.concat((df_SVR, df_SVR_sc, df_SVR_Tuned)).round(4)\n",
    "## Testing score has scored ;pwer than previous Model before using GridSearch\n",
    "### Overall, the Model is stable, but can not produce higher score to reach 0.80"
   ]
  },
  {
   "cell_type": "markdown",
   "metadata": {},
   "source": [
    "<hr>\n",
    "\n",
    "## 5. Summary"
   ]
  },
  {
   "cell_type": "markdown",
   "metadata": {},
   "source": [
    "Our best Model is using base KNN algorithm with StandardScaler."
   ]
  },
  {
   "cell_type": "code",
   "execution_count": 62,
   "metadata": {},
   "outputs": [
    {
     "data": {
      "text/html": [
       "<div>\n",
       "<style scoped>\n",
       "    .dataframe tbody tr th:only-of-type {\n",
       "        vertical-align: middle;\n",
       "    }\n",
       "\n",
       "    .dataframe tbody tr th {\n",
       "        vertical-align: top;\n",
       "    }\n",
       "\n",
       "    .dataframe thead th {\n",
       "        text-align: right;\n",
       "    }\n",
       "</style>\n",
       "<table border=\"1\" class=\"dataframe\">\n",
       "  <thead>\n",
       "    <tr style=\"text-align: right;\">\n",
       "      <th></th>\n",
       "      <th>R2</th>\n",
       "      <th>MAE</th>\n",
       "      <th>MSE</th>\n",
       "      <th>RMSE</th>\n",
       "    </tr>\n",
       "  </thead>\n",
       "  <tbody>\n",
       "    <tr>\n",
       "      <th>Training KNN with StandardScaler</th>\n",
       "      <td>0.898268</td>\n",
       "      <td>1.609863</td>\n",
       "      <td>12.470291</td>\n",
       "      <td>3.531330</td>\n",
       "    </tr>\n",
       "    <tr>\n",
       "      <th>Testing KNN with StandardScaler</th>\n",
       "      <td>0.813515</td>\n",
       "      <td>2.108593</td>\n",
       "      <td>26.136335</td>\n",
       "      <td>5.112371</td>\n",
       "    </tr>\n",
       "  </tbody>\n",
       "</table>\n",
       "</div>"
      ],
      "text/plain": [
       "                                        R2       MAE        MSE      RMSE\n",
       "Training KNN with StandardScaler  0.898268  1.609863  12.470291  3.531330\n",
       "Testing KNN with StandardScaler   0.813515  2.108593  26.136335  5.112371"
      ]
     },
     "execution_count": 62,
     "metadata": {},
     "output_type": "execute_result"
    }
   ],
   "source": [
    "## Show Evaluation Matrix of Best Model\n",
    "df_KNN_sc"
   ]
  }
 ],
 "metadata": {
  "kernelspec": {
   "display_name": "Python 3.10.5 64-bit (windows store)",
   "language": "python",
   "name": "python3"
  },
  "language_info": {
   "codemirror_mode": {
    "name": "ipython",
    "version": 3
   },
   "file_extension": ".py",
   "mimetype": "text/x-python",
   "name": "python",
   "nbconvert_exporter": "python",
   "pygments_lexer": "ipython3",
   "version": "3.10.5"
  },
  "orig_nbformat": 4,
  "vscode": {
   "interpreter": {
    "hash": "bbdc6700f60de612a9776dd7a4bd392f8898b0d00245e53755bddb2281dd5e23"
   }
  }
 },
 "nbformat": 4,
 "nbformat_minor": 2
}
